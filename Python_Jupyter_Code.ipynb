{
 "cells": [
  {
   "cell_type": "code",
   "execution_count": 1,
   "id": "6bd6f63c",
   "metadata": {
    "colab": {
     "base_uri": "https://localhost:8080/"
    },
    "executionInfo": {
     "elapsed": 4795,
     "status": "ok",
     "timestamp": 1681247661449,
     "user": {
      "displayName": "Saransh Vaid",
      "userId": "05076490810953029252"
     },
     "user_tz": 240
    },
    "id": "6bd6f63c",
    "outputId": "de5ab653-b976-44e0-f035-4e1f64f3c047",
    "scrolled": false
   },
   "outputs": [
    {
     "name": "stdout",
     "output_type": "stream",
     "text": [
      "Requirement already satisfied: dmba in c:\\users\\guruk\\anaconda3\\lib\\site-packages (0.1.0)\n",
      "Note: you may need to restart the kernel to use updated packages.\n"
     ]
    }
   ],
   "source": [
    "pip install dmba"
   ]
  },
  {
   "cell_type": "code",
   "execution_count": 2,
   "id": "812a2c2a",
   "metadata": {
    "executionInfo": {
     "elapsed": 1001,
     "status": "ok",
     "timestamp": 1681247674818,
     "user": {
      "displayName": "Saransh Vaid",
      "userId": "05076490810953029252"
     },
     "user_tz": 240
    },
    "id": "812a2c2a"
   },
   "outputs": [],
   "source": [
    "from sklearn.linear_model import LogisticRegression, LogisticRegressionCV, LinearRegression\n",
    "import statsmodels.api as sm\n",
    "from mord import LogisticIT\n",
    "import seaborn as sns\n",
    "from dmba import liftChart, classificationSummary, gainsChart, plotDecisionTree, regressionSummary, exhaustive_search, adjusted_r2_score, backward_elimination\n",
    "from dmba.metric import AIC_score\n",
    "from sklearn.svm import SVC\n",
    "import math\n",
    "import pandas as pd\n",
    "from sklearn.model_selection import train_test_split, cross_val_score, GridSearchCV, cross_val_predict\n",
    "from sklearn.metrics import accuracy_score, roc_curve, auc, r2_score, confusion_matrix\n",
    "import matplotlib.pylab as plt\n",
    "from sklearn import preprocessing\n",
    "from sklearn.neighbors import NearestNeighbors,KNeighborsClassifier\n",
    "from sklearn.naive_bayes import MultinomialNB\n",
    "import numpy as np\n",
    "from sklearn.tree import DecisionTreeClassifier, DecisionTreeRegressor\n",
    "from sklearn.ensemble import RandomForestClassifier, GradientBoostingClassifier\n",
    "from sklearn.preprocessing import MinMaxScaler, LabelEncoder"
   ]
  },
  {
   "cell_type": "code",
   "execution_count": 3,
   "id": "af7db39c",
   "metadata": {
    "colab": {
     "base_uri": "https://localhost:8080/",
     "height": 312
    },
    "executionInfo": {
     "elapsed": 231,
     "status": "error",
     "timestamp": 1681247744623,
     "user": {
      "displayName": "Saransh Vaid",
      "userId": "05076490810953029252"
     },
     "user_tz": 240
    },
    "id": "af7db39c",
    "outputId": "e0ddebcd-feca-4711-ec9b-441185d47db5"
   },
   "outputs": [],
   "source": [
    "stroke_df = pd.read_csv(\"healthcare.csv\")"
   ]
  },
  {
   "cell_type": "code",
   "execution_count": 4,
   "id": "cc440516",
   "metadata": {
    "id": "cc440516",
    "outputId": "d24b7638-ab2f-4b1d-ab4f-73847d4ef01c"
   },
   "outputs": [
    {
     "data": {
      "text/html": [
       "<div>\n",
       "<style scoped>\n",
       "    .dataframe tbody tr th:only-of-type {\n",
       "        vertical-align: middle;\n",
       "    }\n",
       "\n",
       "    .dataframe tbody tr th {\n",
       "        vertical-align: top;\n",
       "    }\n",
       "\n",
       "    .dataframe thead th {\n",
       "        text-align: right;\n",
       "    }\n",
       "</style>\n",
       "<table border=\"1\" class=\"dataframe\">\n",
       "  <thead>\n",
       "    <tr style=\"text-align: right;\">\n",
       "      <th></th>\n",
       "      <th>id</th>\n",
       "      <th>gender</th>\n",
       "      <th>age</th>\n",
       "      <th>hypertension</th>\n",
       "      <th>heart_disease</th>\n",
       "      <th>ever_married</th>\n",
       "      <th>work_type</th>\n",
       "      <th>Residence_type</th>\n",
       "      <th>avg_glucose_level</th>\n",
       "      <th>bmi</th>\n",
       "      <th>smoking_status</th>\n",
       "      <th>stroke</th>\n",
       "    </tr>\n",
       "  </thead>\n",
       "  <tbody>\n",
       "    <tr>\n",
       "      <th>0</th>\n",
       "      <td>9046</td>\n",
       "      <td>Male</td>\n",
       "      <td>67.0</td>\n",
       "      <td>0</td>\n",
       "      <td>1</td>\n",
       "      <td>Yes</td>\n",
       "      <td>Private</td>\n",
       "      <td>Urban</td>\n",
       "      <td>228.69</td>\n",
       "      <td>36.6</td>\n",
       "      <td>formerly smoked</td>\n",
       "      <td>1</td>\n",
       "    </tr>\n",
       "    <tr>\n",
       "      <th>1</th>\n",
       "      <td>51676</td>\n",
       "      <td>Female</td>\n",
       "      <td>61.0</td>\n",
       "      <td>0</td>\n",
       "      <td>0</td>\n",
       "      <td>Yes</td>\n",
       "      <td>Self-employed</td>\n",
       "      <td>Rural</td>\n",
       "      <td>202.21</td>\n",
       "      <td>NaN</td>\n",
       "      <td>never smoked</td>\n",
       "      <td>1</td>\n",
       "    </tr>\n",
       "    <tr>\n",
       "      <th>2</th>\n",
       "      <td>31112</td>\n",
       "      <td>Male</td>\n",
       "      <td>80.0</td>\n",
       "      <td>0</td>\n",
       "      <td>1</td>\n",
       "      <td>Yes</td>\n",
       "      <td>Private</td>\n",
       "      <td>Rural</td>\n",
       "      <td>105.92</td>\n",
       "      <td>32.5</td>\n",
       "      <td>never smoked</td>\n",
       "      <td>1</td>\n",
       "    </tr>\n",
       "    <tr>\n",
       "      <th>3</th>\n",
       "      <td>60182</td>\n",
       "      <td>Female</td>\n",
       "      <td>49.0</td>\n",
       "      <td>0</td>\n",
       "      <td>0</td>\n",
       "      <td>Yes</td>\n",
       "      <td>Private</td>\n",
       "      <td>Urban</td>\n",
       "      <td>171.23</td>\n",
       "      <td>34.4</td>\n",
       "      <td>smokes</td>\n",
       "      <td>1</td>\n",
       "    </tr>\n",
       "    <tr>\n",
       "      <th>4</th>\n",
       "      <td>1665</td>\n",
       "      <td>Female</td>\n",
       "      <td>79.0</td>\n",
       "      <td>1</td>\n",
       "      <td>0</td>\n",
       "      <td>Yes</td>\n",
       "      <td>Self-employed</td>\n",
       "      <td>Rural</td>\n",
       "      <td>174.12</td>\n",
       "      <td>24.0</td>\n",
       "      <td>never smoked</td>\n",
       "      <td>1</td>\n",
       "    </tr>\n",
       "    <tr>\n",
       "      <th>5</th>\n",
       "      <td>56669</td>\n",
       "      <td>Male</td>\n",
       "      <td>81.0</td>\n",
       "      <td>0</td>\n",
       "      <td>0</td>\n",
       "      <td>Yes</td>\n",
       "      <td>Private</td>\n",
       "      <td>Urban</td>\n",
       "      <td>186.21</td>\n",
       "      <td>29.0</td>\n",
       "      <td>formerly smoked</td>\n",
       "      <td>1</td>\n",
       "    </tr>\n",
       "    <tr>\n",
       "      <th>6</th>\n",
       "      <td>53882</td>\n",
       "      <td>Male</td>\n",
       "      <td>74.0</td>\n",
       "      <td>1</td>\n",
       "      <td>1</td>\n",
       "      <td>Yes</td>\n",
       "      <td>Private</td>\n",
       "      <td>Rural</td>\n",
       "      <td>70.09</td>\n",
       "      <td>27.4</td>\n",
       "      <td>never smoked</td>\n",
       "      <td>1</td>\n",
       "    </tr>\n",
       "    <tr>\n",
       "      <th>7</th>\n",
       "      <td>10434</td>\n",
       "      <td>Female</td>\n",
       "      <td>69.0</td>\n",
       "      <td>0</td>\n",
       "      <td>0</td>\n",
       "      <td>No</td>\n",
       "      <td>Private</td>\n",
       "      <td>Urban</td>\n",
       "      <td>94.39</td>\n",
       "      <td>22.8</td>\n",
       "      <td>never smoked</td>\n",
       "      <td>1</td>\n",
       "    </tr>\n",
       "    <tr>\n",
       "      <th>8</th>\n",
       "      <td>27419</td>\n",
       "      <td>Female</td>\n",
       "      <td>59.0</td>\n",
       "      <td>0</td>\n",
       "      <td>0</td>\n",
       "      <td>Yes</td>\n",
       "      <td>Private</td>\n",
       "      <td>Rural</td>\n",
       "      <td>76.15</td>\n",
       "      <td>NaN</td>\n",
       "      <td>Unknown</td>\n",
       "      <td>1</td>\n",
       "    </tr>\n",
       "    <tr>\n",
       "      <th>9</th>\n",
       "      <td>60491</td>\n",
       "      <td>Female</td>\n",
       "      <td>78.0</td>\n",
       "      <td>0</td>\n",
       "      <td>0</td>\n",
       "      <td>Yes</td>\n",
       "      <td>Private</td>\n",
       "      <td>Urban</td>\n",
       "      <td>58.57</td>\n",
       "      <td>24.2</td>\n",
       "      <td>Unknown</td>\n",
       "      <td>1</td>\n",
       "    </tr>\n",
       "  </tbody>\n",
       "</table>\n",
       "</div>"
      ],
      "text/plain": [
       "      id  gender   age  hypertension  heart_disease ever_married  \\\n",
       "0   9046    Male  67.0             0              1          Yes   \n",
       "1  51676  Female  61.0             0              0          Yes   \n",
       "2  31112    Male  80.0             0              1          Yes   \n",
       "3  60182  Female  49.0             0              0          Yes   \n",
       "4   1665  Female  79.0             1              0          Yes   \n",
       "5  56669    Male  81.0             0              0          Yes   \n",
       "6  53882    Male  74.0             1              1          Yes   \n",
       "7  10434  Female  69.0             0              0           No   \n",
       "8  27419  Female  59.0             0              0          Yes   \n",
       "9  60491  Female  78.0             0              0          Yes   \n",
       "\n",
       "       work_type Residence_type  avg_glucose_level   bmi   smoking_status  \\\n",
       "0        Private          Urban             228.69  36.6  formerly smoked   \n",
       "1  Self-employed          Rural             202.21   NaN     never smoked   \n",
       "2        Private          Rural             105.92  32.5     never smoked   \n",
       "3        Private          Urban             171.23  34.4           smokes   \n",
       "4  Self-employed          Rural             174.12  24.0     never smoked   \n",
       "5        Private          Urban             186.21  29.0  formerly smoked   \n",
       "6        Private          Rural              70.09  27.4     never smoked   \n",
       "7        Private          Urban              94.39  22.8     never smoked   \n",
       "8        Private          Rural              76.15   NaN          Unknown   \n",
       "9        Private          Urban              58.57  24.2          Unknown   \n",
       "\n",
       "   stroke  \n",
       "0       1  \n",
       "1       1  \n",
       "2       1  \n",
       "3       1  \n",
       "4       1  \n",
       "5       1  \n",
       "6       1  \n",
       "7       1  \n",
       "8       1  \n",
       "9       1  "
      ]
     },
     "execution_count": 4,
     "metadata": {},
     "output_type": "execute_result"
    }
   ],
   "source": [
    "stroke_df.head(10)"
   ]
  },
  {
   "cell_type": "code",
   "execution_count": 5,
   "id": "c8ef4fa4",
   "metadata": {
    "id": "c8ef4fa4"
   },
   "outputs": [],
   "source": [
    "# Convert 'age' column to integer\n",
    "stroke_df['age'] = stroke_df['age'].astype(int)\n",
    "\n",
    "# Convert 'avg_glucose_level' column to float\n",
    "stroke_df['avg_glucose_level'] = stroke_df['avg_glucose_level'].astype(float)\n",
    "\n",
    "# Convert 'hypertension' column to integer\n",
    "stroke_df['hypertension'] = stroke_df['hypertension'].astype(int)\n",
    "\n",
    "# Convert 'heart_disease' column to integer\n",
    "stroke_df['heart_disease'] = stroke_df['heart_disease'].astype(int)"
   ]
  },
  {
   "cell_type": "code",
   "execution_count": 6,
   "id": "a563aa9d",
   "metadata": {
    "id": "a563aa9d"
   },
   "outputs": [],
   "source": [
    "# Create a list of the numerical columns\n",
    "num_cols = ['age', 'avg_glucose_level', 'bmi']\n",
    "df_num = stroke_df[num_cols]\n",
    "\n",
    "# Initialize the scaler\n",
    "scaler = MinMaxScaler()\n",
    "\n",
    "# Fit and transform the numerical columns using the scaler\n",
    "df_num_scaled = pd.DataFrame(scaler.fit_transform(df_num), columns=num_cols)\n",
    "\n",
    "# Replace the original numerical columns with the scaled ones\n",
    "stroke_df[num_cols] = df_num_scaled"
   ]
  },
  {
   "cell_type": "code",
   "execution_count": 7,
   "id": "b85cc4f3",
   "metadata": {
    "id": "b85cc4f3"
   },
   "outputs": [],
   "source": [
    "stroke_df.dropna(subset=['age','avg_glucose_level','bmi'], inplace=True)"
   ]
  },
  {
   "cell_type": "code",
   "execution_count": 8,
   "id": "bc577925",
   "metadata": {
    "id": "bc577925",
    "outputId": "8f5c9771-0030-4f92-9316-da4a85b8dd55"
   },
   "outputs": [
    {
     "data": {
      "text/plain": [
       "id                   0\n",
       "gender               0\n",
       "age                  0\n",
       "hypertension         0\n",
       "heart_disease        0\n",
       "ever_married         0\n",
       "work_type            0\n",
       "Residence_type       0\n",
       "avg_glucose_level    0\n",
       "bmi                  0\n",
       "smoking_status       0\n",
       "stroke               0\n",
       "dtype: int64"
      ]
     },
     "execution_count": 8,
     "metadata": {},
     "output_type": "execute_result"
    }
   ],
   "source": [
    "stroke_df.isna().sum()"
   ]
  },
  {
   "cell_type": "code",
   "execution_count": 9,
   "id": "cbc173aa",
   "metadata": {
    "id": "cbc173aa",
    "outputId": "1af09efc-a711-4d30-8efc-b87158645614"
   },
   "outputs": [
    {
     "name": "stdout",
     "output_type": "stream",
     "text": [
      "<class 'pandas.core.frame.DataFrame'>\n",
      "Int64Index: 4909 entries, 0 to 5109\n",
      "Data columns (total 12 columns):\n",
      " #   Column             Non-Null Count  Dtype  \n",
      "---  ------             --------------  -----  \n",
      " 0   id                 4909 non-null   int64  \n",
      " 1   gender             4909 non-null   object \n",
      " 2   age                4909 non-null   float64\n",
      " 3   hypertension       4909 non-null   int32  \n",
      " 4   heart_disease      4909 non-null   int32  \n",
      " 5   ever_married       4909 non-null   object \n",
      " 6   work_type          4909 non-null   object \n",
      " 7   Residence_type     4909 non-null   object \n",
      " 8   avg_glucose_level  4909 non-null   float64\n",
      " 9   bmi                4909 non-null   float64\n",
      " 10  smoking_status     4909 non-null   object \n",
      " 11  stroke             4909 non-null   int64  \n",
      "dtypes: float64(3), int32(2), int64(2), object(5)\n",
      "memory usage: 460.2+ KB\n"
     ]
    }
   ],
   "source": [
    "stroke_df.info()"
   ]
  },
  {
   "cell_type": "code",
   "execution_count": 10,
   "id": "69072c8f",
   "metadata": {
    "id": "69072c8f",
    "outputId": "4f10a8c5-96cf-4a4a-f130-86bb690fe2e0"
   },
   "outputs": [
    {
     "data": {
      "text/html": [
       "<div>\n",
       "<style scoped>\n",
       "    .dataframe tbody tr th:only-of-type {\n",
       "        vertical-align: middle;\n",
       "    }\n",
       "\n",
       "    .dataframe tbody tr th {\n",
       "        vertical-align: top;\n",
       "    }\n",
       "\n",
       "    .dataframe thead th {\n",
       "        text-align: right;\n",
       "    }\n",
       "</style>\n",
       "<table border=\"1\" class=\"dataframe\">\n",
       "  <thead>\n",
       "    <tr style=\"text-align: right;\">\n",
       "      <th></th>\n",
       "      <th>id</th>\n",
       "      <th>age</th>\n",
       "      <th>hypertension</th>\n",
       "      <th>heart_disease</th>\n",
       "      <th>avg_glucose_level</th>\n",
       "      <th>bmi</th>\n",
       "      <th>stroke</th>\n",
       "    </tr>\n",
       "  </thead>\n",
       "  <tbody>\n",
       "    <tr>\n",
       "      <th>count</th>\n",
       "      <td>4909.000000</td>\n",
       "      <td>4909.000000</td>\n",
       "      <td>4909.000000</td>\n",
       "      <td>4909.000000</td>\n",
       "      <td>4909.000000</td>\n",
       "      <td>4909.000000</td>\n",
       "      <td>4909.000000</td>\n",
       "    </tr>\n",
       "    <tr>\n",
       "      <th>mean</th>\n",
       "      <td>37064.313506</td>\n",
       "      <td>0.522612</td>\n",
       "      <td>0.091872</td>\n",
       "      <td>0.049501</td>\n",
       "      <td>0.231674</td>\n",
       "      <td>0.212981</td>\n",
       "      <td>0.042575</td>\n",
       "    </tr>\n",
       "    <tr>\n",
       "      <th>std</th>\n",
       "      <td>20995.098457</td>\n",
       "      <td>0.275317</td>\n",
       "      <td>0.288875</td>\n",
       "      <td>0.216934</td>\n",
       "      <td>0.205080</td>\n",
       "      <td>0.089966</td>\n",
       "      <td>0.201917</td>\n",
       "    </tr>\n",
       "    <tr>\n",
       "      <th>min</th>\n",
       "      <td>77.000000</td>\n",
       "      <td>0.000000</td>\n",
       "      <td>0.000000</td>\n",
       "      <td>0.000000</td>\n",
       "      <td>0.000000</td>\n",
       "      <td>0.000000</td>\n",
       "      <td>0.000000</td>\n",
       "    </tr>\n",
       "    <tr>\n",
       "      <th>25%</th>\n",
       "      <td>18605.000000</td>\n",
       "      <td>0.304878</td>\n",
       "      <td>0.000000</td>\n",
       "      <td>0.000000</td>\n",
       "      <td>0.101330</td>\n",
       "      <td>0.151203</td>\n",
       "      <td>0.000000</td>\n",
       "    </tr>\n",
       "    <tr>\n",
       "      <th>50%</th>\n",
       "      <td>37608.000000</td>\n",
       "      <td>0.536585</td>\n",
       "      <td>0.000000</td>\n",
       "      <td>0.000000</td>\n",
       "      <td>0.168775</td>\n",
       "      <td>0.203895</td>\n",
       "      <td>0.000000</td>\n",
       "    </tr>\n",
       "    <tr>\n",
       "      <th>75%</th>\n",
       "      <td>55220.000000</td>\n",
       "      <td>0.731707</td>\n",
       "      <td>0.000000</td>\n",
       "      <td>0.000000</td>\n",
       "      <td>0.269827</td>\n",
       "      <td>0.261168</td>\n",
       "      <td>0.000000</td>\n",
       "    </tr>\n",
       "    <tr>\n",
       "      <th>max</th>\n",
       "      <td>72940.000000</td>\n",
       "      <td>1.000000</td>\n",
       "      <td>1.000000</td>\n",
       "      <td>1.000000</td>\n",
       "      <td>1.000000</td>\n",
       "      <td>1.000000</td>\n",
       "      <td>1.000000</td>\n",
       "    </tr>\n",
       "  </tbody>\n",
       "</table>\n",
       "</div>"
      ],
      "text/plain": [
       "                 id          age  hypertension  heart_disease  \\\n",
       "count   4909.000000  4909.000000   4909.000000    4909.000000   \n",
       "mean   37064.313506     0.522612      0.091872       0.049501   \n",
       "std    20995.098457     0.275317      0.288875       0.216934   \n",
       "min       77.000000     0.000000      0.000000       0.000000   \n",
       "25%    18605.000000     0.304878      0.000000       0.000000   \n",
       "50%    37608.000000     0.536585      0.000000       0.000000   \n",
       "75%    55220.000000     0.731707      0.000000       0.000000   \n",
       "max    72940.000000     1.000000      1.000000       1.000000   \n",
       "\n",
       "       avg_glucose_level          bmi       stroke  \n",
       "count        4909.000000  4909.000000  4909.000000  \n",
       "mean            0.231674     0.212981     0.042575  \n",
       "std             0.205080     0.089966     0.201917  \n",
       "min             0.000000     0.000000     0.000000  \n",
       "25%             0.101330     0.151203     0.000000  \n",
       "50%             0.168775     0.203895     0.000000  \n",
       "75%             0.269827     0.261168     0.000000  \n",
       "max             1.000000     1.000000     1.000000  "
      ]
     },
     "execution_count": 10,
     "metadata": {},
     "output_type": "execute_result"
    }
   ],
   "source": [
    "stroke_df.describe()"
   ]
  },
  {
   "cell_type": "code",
   "execution_count": 11,
   "id": "e7c1ee80",
   "metadata": {},
   "outputs": [],
   "source": [
    "# Creating a copy of the main dataframe to create a heatmap\n",
    "stroke_hm = stroke_df.copy()"
   ]
  },
  {
   "cell_type": "code",
   "execution_count": 12,
   "id": "cae47359",
   "metadata": {},
   "outputs": [
    {
     "data": {
      "text/html": [
       "<div>\n",
       "<style scoped>\n",
       "    .dataframe tbody tr th:only-of-type {\n",
       "        vertical-align: middle;\n",
       "    }\n",
       "\n",
       "    .dataframe tbody tr th {\n",
       "        vertical-align: top;\n",
       "    }\n",
       "\n",
       "    .dataframe thead th {\n",
       "        text-align: right;\n",
       "    }\n",
       "</style>\n",
       "<table border=\"1\" class=\"dataframe\">\n",
       "  <thead>\n",
       "    <tr style=\"text-align: right;\">\n",
       "      <th></th>\n",
       "      <th>gender</th>\n",
       "      <th>age</th>\n",
       "      <th>hypertension</th>\n",
       "      <th>heart_disease</th>\n",
       "      <th>ever_married</th>\n",
       "      <th>work_type</th>\n",
       "      <th>Residence_type</th>\n",
       "      <th>avg_glucose_level</th>\n",
       "      <th>bmi</th>\n",
       "      <th>smoking_status</th>\n",
       "    </tr>\n",
       "  </thead>\n",
       "  <tbody>\n",
       "    <tr>\n",
       "      <th>0</th>\n",
       "      <td>1</td>\n",
       "      <td>67</td>\n",
       "      <td>0</td>\n",
       "      <td>1</td>\n",
       "      <td>1</td>\n",
       "      <td>2</td>\n",
       "      <td>1</td>\n",
       "      <td>3734</td>\n",
       "      <td>239</td>\n",
       "      <td>1</td>\n",
       "    </tr>\n",
       "    <tr>\n",
       "      <th>1</th>\n",
       "      <td>1</td>\n",
       "      <td>80</td>\n",
       "      <td>0</td>\n",
       "      <td>1</td>\n",
       "      <td>1</td>\n",
       "      <td>2</td>\n",
       "      <td>0</td>\n",
       "      <td>2429</td>\n",
       "      <td>198</td>\n",
       "      <td>2</td>\n",
       "    </tr>\n",
       "    <tr>\n",
       "      <th>2</th>\n",
       "      <td>0</td>\n",
       "      <td>49</td>\n",
       "      <td>0</td>\n",
       "      <td>0</td>\n",
       "      <td>1</td>\n",
       "      <td>2</td>\n",
       "      <td>1</td>\n",
       "      <td>3309</td>\n",
       "      <td>217</td>\n",
       "      <td>3</td>\n",
       "    </tr>\n",
       "    <tr>\n",
       "      <th>3</th>\n",
       "      <td>0</td>\n",
       "      <td>79</td>\n",
       "      <td>1</td>\n",
       "      <td>0</td>\n",
       "      <td>1</td>\n",
       "      <td>3</td>\n",
       "      <td>0</td>\n",
       "      <td>3318</td>\n",
       "      <td>113</td>\n",
       "      <td>2</td>\n",
       "    </tr>\n",
       "    <tr>\n",
       "      <th>4</th>\n",
       "      <td>1</td>\n",
       "      <td>81</td>\n",
       "      <td>0</td>\n",
       "      <td>0</td>\n",
       "      <td>1</td>\n",
       "      <td>2</td>\n",
       "      <td>1</td>\n",
       "      <td>3367</td>\n",
       "      <td>163</td>\n",
       "      <td>1</td>\n",
       "    </tr>\n",
       "    <tr>\n",
       "      <th>5</th>\n",
       "      <td>1</td>\n",
       "      <td>74</td>\n",
       "      <td>1</td>\n",
       "      <td>1</td>\n",
       "      <td>1</td>\n",
       "      <td>2</td>\n",
       "      <td>0</td>\n",
       "      <td>579</td>\n",
       "      <td>147</td>\n",
       "      <td>2</td>\n",
       "    </tr>\n",
       "    <tr>\n",
       "      <th>6</th>\n",
       "      <td>0</td>\n",
       "      <td>69</td>\n",
       "      <td>0</td>\n",
       "      <td>0</td>\n",
       "      <td>0</td>\n",
       "      <td>2</td>\n",
       "      <td>1</td>\n",
       "      <td>1910</td>\n",
       "      <td>101</td>\n",
       "      <td>2</td>\n",
       "    </tr>\n",
       "    <tr>\n",
       "      <th>7</th>\n",
       "      <td>0</td>\n",
       "      <td>78</td>\n",
       "      <td>0</td>\n",
       "      <td>0</td>\n",
       "      <td>1</td>\n",
       "      <td>2</td>\n",
       "      <td>1</td>\n",
       "      <td>124</td>\n",
       "      <td>115</td>\n",
       "      <td>0</td>\n",
       "    </tr>\n",
       "    <tr>\n",
       "      <th>8</th>\n",
       "      <td>0</td>\n",
       "      <td>81</td>\n",
       "      <td>1</td>\n",
       "      <td>0</td>\n",
       "      <td>1</td>\n",
       "      <td>2</td>\n",
       "      <td>0</td>\n",
       "      <td>1140</td>\n",
       "      <td>170</td>\n",
       "      <td>2</td>\n",
       "    </tr>\n",
       "    <tr>\n",
       "      <th>9</th>\n",
       "      <td>0</td>\n",
       "      <td>61</td>\n",
       "      <td>0</td>\n",
       "      <td>1</td>\n",
       "      <td>1</td>\n",
       "      <td>0</td>\n",
       "      <td>0</td>\n",
       "      <td>2864</td>\n",
       "      <td>241</td>\n",
       "      <td>3</td>\n",
       "    </tr>\n",
       "    <tr>\n",
       "      <th>10</th>\n",
       "      <td>0</td>\n",
       "      <td>54</td>\n",
       "      <td>0</td>\n",
       "      <td>0</td>\n",
       "      <td>1</td>\n",
       "      <td>2</td>\n",
       "      <td>1</td>\n",
       "      <td>2390</td>\n",
       "      <td>146</td>\n",
       "      <td>3</td>\n",
       "    </tr>\n",
       "    <tr>\n",
       "      <th>11</th>\n",
       "      <td>0</td>\n",
       "      <td>79</td>\n",
       "      <td>0</td>\n",
       "      <td>1</td>\n",
       "      <td>1</td>\n",
       "      <td>2</td>\n",
       "      <td>1</td>\n",
       "      <td>3605</td>\n",
       "      <td>155</td>\n",
       "      <td>2</td>\n",
       "    </tr>\n",
       "    <tr>\n",
       "      <th>12</th>\n",
       "      <td>0</td>\n",
       "      <td>50</td>\n",
       "      <td>1</td>\n",
       "      <td>0</td>\n",
       "      <td>1</td>\n",
       "      <td>3</td>\n",
       "      <td>0</td>\n",
       "      <td>3293</td>\n",
       "      <td>182</td>\n",
       "      <td>2</td>\n",
       "    </tr>\n",
       "    <tr>\n",
       "      <th>13</th>\n",
       "      <td>1</td>\n",
       "      <td>64</td>\n",
       "      <td>0</td>\n",
       "      <td>1</td>\n",
       "      <td>1</td>\n",
       "      <td>2</td>\n",
       "      <td>1</td>\n",
       "      <td>3397</td>\n",
       "      <td>248</td>\n",
       "      <td>3</td>\n",
       "    </tr>\n",
       "    <tr>\n",
       "      <th>14</th>\n",
       "      <td>1</td>\n",
       "      <td>75</td>\n",
       "      <td>1</td>\n",
       "      <td>0</td>\n",
       "      <td>1</td>\n",
       "      <td>2</td>\n",
       "      <td>1</td>\n",
       "      <td>3675</td>\n",
       "      <td>131</td>\n",
       "      <td>3</td>\n",
       "    </tr>\n",
       "    <tr>\n",
       "      <th>15</th>\n",
       "      <td>0</td>\n",
       "      <td>60</td>\n",
       "      <td>0</td>\n",
       "      <td>0</td>\n",
       "      <td>0</td>\n",
       "      <td>2</td>\n",
       "      <td>1</td>\n",
       "      <td>1642</td>\n",
       "      <td>251</td>\n",
       "      <td>2</td>\n",
       "    </tr>\n",
       "    <tr>\n",
       "      <th>16</th>\n",
       "      <td>0</td>\n",
       "      <td>71</td>\n",
       "      <td>0</td>\n",
       "      <td>0</td>\n",
       "      <td>1</td>\n",
       "      <td>0</td>\n",
       "      <td>0</td>\n",
       "      <td>3414</td>\n",
       "      <td>97</td>\n",
       "      <td>3</td>\n",
       "    </tr>\n",
       "    <tr>\n",
       "      <th>17</th>\n",
       "      <td>0</td>\n",
       "      <td>52</td>\n",
       "      <td>1</td>\n",
       "      <td>0</td>\n",
       "      <td>1</td>\n",
       "      <td>3</td>\n",
       "      <td>1</td>\n",
       "      <td>3766</td>\n",
       "      <td>355</td>\n",
       "      <td>2</td>\n",
       "    </tr>\n",
       "    <tr>\n",
       "      <th>18</th>\n",
       "      <td>0</td>\n",
       "      <td>79</td>\n",
       "      <td>0</td>\n",
       "      <td>0</td>\n",
       "      <td>1</td>\n",
       "      <td>3</td>\n",
       "      <td>1</td>\n",
       "      <td>3735</td>\n",
       "      <td>139</td>\n",
       "      <td>2</td>\n",
       "    </tr>\n",
       "    <tr>\n",
       "      <th>19</th>\n",
       "      <td>1</td>\n",
       "      <td>82</td>\n",
       "      <td>0</td>\n",
       "      <td>1</td>\n",
       "      <td>1</td>\n",
       "      <td>2</td>\n",
       "      <td>0</td>\n",
       "      <td>3559</td>\n",
       "      <td>198</td>\n",
       "      <td>0</td>\n",
       "    </tr>\n",
       "  </tbody>\n",
       "</table>\n",
       "</div>"
      ],
      "text/plain": [
       "    gender  age  hypertension  heart_disease  ever_married  work_type  \\\n",
       "0        1   67             0              1             1          2   \n",
       "1        1   80             0              1             1          2   \n",
       "2        0   49             0              0             1          2   \n",
       "3        0   79             1              0             1          3   \n",
       "4        1   81             0              0             1          2   \n",
       "5        1   74             1              1             1          2   \n",
       "6        0   69             0              0             0          2   \n",
       "7        0   78             0              0             1          2   \n",
       "8        0   81             1              0             1          2   \n",
       "9        0   61             0              1             1          0   \n",
       "10       0   54             0              0             1          2   \n",
       "11       0   79             0              1             1          2   \n",
       "12       0   50             1              0             1          3   \n",
       "13       1   64             0              1             1          2   \n",
       "14       1   75             1              0             1          2   \n",
       "15       0   60             0              0             0          2   \n",
       "16       0   71             0              0             1          0   \n",
       "17       0   52             1              0             1          3   \n",
       "18       0   79             0              0             1          3   \n",
       "19       1   82             0              1             1          2   \n",
       "\n",
       "    Residence_type  avg_glucose_level  bmi  smoking_status  \n",
       "0                1               3734  239               1  \n",
       "1                0               2429  198               2  \n",
       "2                1               3309  217               3  \n",
       "3                0               3318  113               2  \n",
       "4                1               3367  163               1  \n",
       "5                0                579  147               2  \n",
       "6                1               1910  101               2  \n",
       "7                1                124  115               0  \n",
       "8                0               1140  170               2  \n",
       "9                0               2864  241               3  \n",
       "10               1               2390  146               3  \n",
       "11               1               3605  155               2  \n",
       "12               0               3293  182               2  \n",
       "13               1               3397  248               3  \n",
       "14               1               3675  131               3  \n",
       "15               1               1642  251               2  \n",
       "16               0               3414   97               3  \n",
       "17               1               3766  355               2  \n",
       "18               1               3735  139               2  \n",
       "19               0               3559  198               0  "
      ]
     },
     "execution_count": 12,
     "metadata": {},
     "output_type": "execute_result"
    }
   ],
   "source": [
    "# Converting the categorical columns into numeric data for the purpose of calculating correlation\n",
    "stroke_hm = pd.DataFrame(data = stroke_hm.iloc[:,1:11].values, columns = [\"gender\",\"age\",\"hypertension\",\"heart_disease\",\n",
    "                                                                          \"ever_married\",\"work_type\",\"Residence_type\",\n",
    "                                                                          \"avg_glucose_level\",\"bmi\",\"smoking_status\"])\n",
    "stroke_num_hm = stroke_hm.iloc[:,0:11]\n",
    "le = LabelEncoder()\n",
    "\n",
    "for i in stroke_num_hm:\n",
    "    stroke_num_hm[i]=le.fit_transform(stroke_num_hm[i])\n",
    "    \n",
    "stroke_num_hm.head(20)"
   ]
  },
  {
   "cell_type": "code",
   "execution_count": 13,
   "id": "0834b1c6",
   "metadata": {},
   "outputs": [],
   "source": [
    "# Computing the correlation matrix\n",
    "corr_matrix = stroke_num_hm.corr()"
   ]
  },
  {
   "cell_type": "code",
   "execution_count": 14,
   "id": "c62145b4",
   "metadata": {
    "scrolled": true
   },
   "outputs": [
    {
     "name": "stdout",
     "output_type": "stream",
     "text": [
      "                     gender       age  hypertension  heart_disease  \\\n",
      "gender             1.000000 -0.030823      0.021578       0.082712   \n",
      "age               -0.030823  1.000000      0.274329       0.256999   \n",
      "hypertension       0.021578  0.274329      1.000000       0.115991   \n",
      "heart_disease      0.082712  0.256999      0.115991       1.000000   \n",
      "ever_married      -0.037237  0.680834      0.162406       0.111245   \n",
      "work_type          0.058560 -0.367481     -0.052750      -0.030373   \n",
      "Residence_type    -0.005014  0.010942     -0.001074      -0.002362   \n",
      "avg_glucose_level  0.050207  0.147662      0.121306       0.107669   \n",
      "bmi               -0.027717  0.349698      0.163928       0.045371   \n",
      "smoking_status    -0.060004  0.275902      0.110808       0.055236   \n",
      "\n",
      "                   ever_married  work_type  Residence_type  avg_glucose_level  \\\n",
      "gender                -0.037237   0.058560       -0.005014           0.050207   \n",
      "age                    0.680834  -0.367481        0.010942           0.147662   \n",
      "hypertension           0.162406  -0.052750       -0.001074           0.121306   \n",
      "heart_disease          0.111245  -0.030373       -0.002362           0.107669   \n",
      "ever_married           1.000000  -0.357946        0.004989           0.098730   \n",
      "work_type             -0.357946   1.000000       -0.005422          -0.024666   \n",
      "Residence_type         0.004989  -0.005422        1.000000          -0.014991   \n",
      "avg_glucose_level      0.098730  -0.024666       -0.014991           1.000000   \n",
      "bmi                    0.355113  -0.315907        0.002628           0.120733   \n",
      "smoking_status         0.264642  -0.310911        0.013810           0.041281   \n",
      "\n",
      "                        bmi  smoking_status  \n",
      "gender            -0.027717       -0.060004  \n",
      "age                0.349698        0.275902  \n",
      "hypertension       0.163928        0.110808  \n",
      "heart_disease      0.045371        0.055236  \n",
      "ever_married       0.355113        0.264642  \n",
      "work_type         -0.315907       -0.310911  \n",
      "Residence_type     0.002628        0.013810  \n",
      "avg_glucose_level  0.120733        0.041281  \n",
      "bmi                1.000000        0.233030  \n",
      "smoking_status     0.233030        1.000000  \n"
     ]
    }
   ],
   "source": [
    "print(corr_matrix)"
   ]
  },
  {
   "cell_type": "code",
   "execution_count": 15,
   "id": "b4316310",
   "metadata": {},
   "outputs": [
    {
     "data": {
      "text/plain": [
       "<AxesSubplot:>"
      ]
     },
     "execution_count": 15,
     "metadata": {},
     "output_type": "execute_result"
    },
    {
     "data": {
      "image/png": "[encoded data removed]",
      "text/plain": [
       "<Figure size 720x576 with 2 Axes>"
      ]
     },
     "metadata": {
      "needs_background": "light"
     },
     "output_type": "display_data"
    }
   ],
   "source": [
    "# Setting the figure size\n",
    "fig, ax = plt.subplots(figsize=(10, 8))\n",
    "\n",
    "# Use the heatmap() function from seaborn to create a heatmap\n",
    "sns.heatmap(corr_matrix, cmap = 'Reds', annot = True, ax = ax)"
   ]
  },
  {
   "cell_type": "markdown",
   "id": "94d2bc9f",
   "metadata": {
    "id": "94d2bc9f"
   },
   "source": [
    "Splitting the dataframe stroke_df into test and train dataframes"
   ]
  },
  {
   "cell_type": "code",
   "execution_count": 16,
   "id": "6a39128c",
   "metadata": {
    "id": "6a39128c"
   },
   "outputs": [],
   "source": [
    "predictors = ['gender','age','hypertension','heart_disease','ever_married','work_type','Residence_type','avg_glucose_level','bmi','smoking_status']"
   ]
  },
  {
   "cell_type": "code",
   "execution_count": 17,
   "id": "6973ad3f",
   "metadata": {
    "id": "6973ad3f",
    "outputId": "32ea09ef-e5ea-4f82-f8f1-5bd537d88099"
   },
   "outputs": [
    {
     "name": "stdout",
     "output_type": "stream",
     "text": [
      "           age  hypertension  heart_disease  avg_glucose_level       bmi  \\\n",
      "4369  0.634146             0              0           0.034807  0.316151   \n",
      "3903  0.804878             0              0           0.221078  0.261168   \n",
      "322   0.268293             0              0           0.068415  0.143184   \n",
      "1617  0.853659             1              0           0.050134  0.260023   \n",
      "4288  0.524390             1              0           0.008402  0.400916   \n",
      "...        ...           ...            ...                ...       ...   \n",
      "3036  0.487805             0              0           0.228603  0.167239   \n",
      "2899  0.670732             0              0           0.063106  0.191294   \n",
      "962   0.402439             0              0           0.102945  0.180985   \n",
      "4157  0.170732             0              0           0.261472  0.166094   \n",
      "275   0.817073             0              0           0.182301  0.207331   \n",
      "\n",
      "      gender_Female  gender_Male  gender_Other  ever_married_No  \\\n",
      "4369              1            0             0                0   \n",
      "3903              0            1             0                0   \n",
      "322               1            0             0                1   \n",
      "1617              0            1             0                0   \n",
      "4288              1            0             0                0   \n",
      "...             ...          ...           ...              ...   \n",
      "3036              0            1             0                0   \n",
      "2899              0            1             0                0   \n",
      "962               0            1             0                1   \n",
      "4157              1            0             0                1   \n",
      "275               1            0             0                0   \n",
      "\n",
      "      ever_married_Yes  ...  work_type_Never_worked  work_type_Private  \\\n",
      "4369                 1  ...                       0                  0   \n",
      "3903                 1  ...                       0                  1   \n",
      "322                  0  ...                       0                  1   \n",
      "1617                 1  ...                       0                  1   \n",
      "4288                 1  ...                       0                  0   \n",
      "...                ...  ...                     ...                ...   \n",
      "3036                 1  ...                       0                  1   \n",
      "2899                 1  ...                       0                  1   \n",
      "962                  0  ...                       0                  1   \n",
      "4157                 0  ...                       0                  0   \n",
      "275                  1  ...                       0                  0   \n",
      "\n",
      "      work_type_Self-employed  work_type_children  Residence_type_Rural  \\\n",
      "4369                        0                   0                     1   \n",
      "3903                        0                   0                     0   \n",
      "322                         0                   0                     0   \n",
      "1617                        0                   0                     0   \n",
      "4288                        0                   0                     1   \n",
      "...                       ...                 ...                   ...   \n",
      "3036                        0                   0                     0   \n",
      "2899                        0                   0                     0   \n",
      "962                         0                   0                     1   \n",
      "4157                        0                   1                     1   \n",
      "275                         0                   0                     1   \n",
      "\n",
      "      Residence_type_Urban  smoking_status_Unknown  \\\n",
      "4369                     0                       1   \n",
      "3903                     1                       0   \n",
      "322                      1                       1   \n",
      "1617                     1                       0   \n",
      "4288                     0                       1   \n",
      "...                    ...                     ...   \n",
      "3036                     1                       1   \n",
      "2899                     1                       0   \n",
      "962                      0                       1   \n",
      "4157                     0                       1   \n",
      "275                      0                       0   \n",
      "\n",
      "      smoking_status_formerly smoked  smoking_status_never smoked  \\\n",
      "4369                               0                            0   \n",
      "3903                               0                            1   \n",
      "322                                0                            0   \n",
      "1617                               1                            0   \n",
      "4288                               0                            0   \n",
      "...                              ...                          ...   \n",
      "3036                               0                            0   \n",
      "2899                               0                            1   \n",
      "962                                0                            0   \n",
      "4157                               0                            0   \n",
      "275                                0                            0   \n",
      "\n",
      "      smoking_status_smokes  \n",
      "4369                      0  \n",
      "3903                      0  \n",
      "322                       0  \n",
      "1617                      0  \n",
      "4288                      0  \n",
      "...                     ...  \n",
      "3036                      0  \n",
      "2899                      0  \n",
      "962                       0  \n",
      "4157                      0  \n",
      "275                       1  \n",
      "\n",
      "[2945 rows x 21 columns]\n"
     ]
    }
   ],
   "source": [
    "#Split the data into training (60%) and testing (40%)\n",
    "x = pd.get_dummies(stroke_df[predictors])\n",
    "y = stroke_df['stroke']\n",
    "classes = [0, 1]\n",
    "\n",
    "# split into training and validation\n",
    "x_train, x_valid, y_train, y_valid = train_test_split(x, y, test_size=0.40, random_state=1)\n",
    "print(x_train)"
   ]
  },
  {
   "cell_type": "markdown",
   "id": "50322f15",
   "metadata": {
    "id": "50322f15"
   },
   "source": [
    "# Naive Bayes"
   ]
  },
  {
   "cell_type": "code",
   "execution_count": 18,
   "id": "ee5523f4",
   "metadata": {
    "id": "ee5523f4"
   },
   "outputs": [],
   "source": [
    "NBxtrain = x_train.copy()\n",
    "NBxvalid = x_valid.copy()\n",
    "NBytrain = y_train.copy()\n",
    "NByvalid = y_valid.copy()"
   ]
  },
  {
   "cell_type": "code",
   "execution_count": 19,
   "id": "116a8520",
   "metadata": {
    "id": "116a8520"
   },
   "outputs": [],
   "source": [
    "# Converting all the numerical columns into catergories using bins\n",
    "NBxtrain.age = [round(t / 0.1) for t in NBxtrain.age]\n",
    "NBxtrain.age = NBxtrain.age.astype('category')\n",
    "NBxvalid.age = [round(t / 0.1) for t in NBxvalid.age]\n",
    "NBxvalid.age = NBxvalid.age.astype('category')\n",
    "\n",
    "NBxtrain.hypertension = NBxtrain.hypertension.astype('category')\n",
    "NBxvalid.hypertension = NBxvalid.hypertension.astype('category')\n",
    "\n",
    "NBxtrain.heart_disease = NBxtrain.heart_disease.astype('category')\n",
    "NBxvalid.heart_disease = NBxvalid.heart_disease.astype('category')\n",
    "\n",
    "NBxtrain.avg_glucose_level = [round(t / 0.1) for t in NBxtrain.avg_glucose_level]\n",
    "NBxtrain.avg_glucose_level = NBxtrain.avg_glucose_level.astype('category')\n",
    "NBxvalid.avg_glucose_level = [round(t / 0.1) for t in NBxvalid.avg_glucose_level]\n",
    "NBxvalid.avg_glucose_level = NBxvalid.avg_glucose_level.astype('category')\n",
    "\n",
    "NBxtrain.bmi = [round(t / 0.1) for t in NBxtrain.bmi]\n",
    "NBxtrain.bmi = NBxtrain.bmi.astype('category')\n",
    "NBxvalid.bmi = [round(t / 0.1) for t in NBxvalid.bmi]\n",
    "NBxvalid.bmi = NBxvalid.bmi.astype('category')"
   ]
  },
  {
   "cell_type": "code",
   "execution_count": 20,
   "id": "f4b4a665",
   "metadata": {},
   "outputs": [
    {
     "name": "stdout",
     "output_type": "stream",
     "text": [
      "<class 'pandas.core.frame.DataFrame'>\n",
      "Int64Index: 1964 entries, 2648 to 776\n",
      "Data columns (total 21 columns):\n",
      " #   Column                          Non-Null Count  Dtype  \n",
      "---  ------                          --------------  -----  \n",
      " 0   age                             1964 non-null   float64\n",
      " 1   hypertension                    1964 non-null   int32  \n",
      " 2   heart_disease                   1964 non-null   int32  \n",
      " 3   avg_glucose_level               1964 non-null   float64\n",
      " 4   bmi                             1964 non-null   float64\n",
      " 5   gender_Female                   1964 non-null   uint8  \n",
      " 6   gender_Male                     1964 non-null   uint8  \n",
      " 7   gender_Other                    1964 non-null   uint8  \n",
      " 8   ever_married_No                 1964 non-null   uint8  \n",
      " 9   ever_married_Yes                1964 non-null   uint8  \n",
      " 10  work_type_Govt_job              1964 non-null   uint8  \n",
      " 11  work_type_Never_worked          1964 non-null   uint8  \n",
      " 12  work_type_Private               1964 non-null   uint8  \n",
      " 13  work_type_Self-employed         1964 non-null   uint8  \n",
      " 14  work_type_children              1964 non-null   uint8  \n",
      " 15  Residence_type_Rural            1964 non-null   uint8  \n",
      " 16  Residence_type_Urban            1964 non-null   uint8  \n",
      " 17  smoking_status_Unknown          1964 non-null   uint8  \n",
      " 18  smoking_status_formerly smoked  1964 non-null   uint8  \n",
      " 19  smoking_status_never smoked     1964 non-null   uint8  \n",
      " 20  smoking_status_smokes           1964 non-null   uint8  \n",
      "dtypes: float64(3), int32(2), uint8(16)\n",
      "memory usage: 107.4 KB\n"
     ]
    }
   ],
   "source": [
    "x_valid.info()"
   ]
  },
  {
   "cell_type": "code",
   "execution_count": 21,
   "id": "c6e780b7",
   "metadata": {
    "id": "c6e780b7"
   },
   "outputs": [
    {
     "data": {
      "text/html": [
       "<div>\n",
       "<style scoped>\n",
       "    .dataframe tbody tr th:only-of-type {\n",
       "        vertical-align: middle;\n",
       "    }\n",
       "\n",
       "    .dataframe tbody tr th {\n",
       "        vertical-align: top;\n",
       "    }\n",
       "\n",
       "    .dataframe thead th {\n",
       "        text-align: right;\n",
       "    }\n",
       "</style>\n",
       "<table border=\"1\" class=\"dataframe\">\n",
       "  <thead>\n",
       "    <tr style=\"text-align: right;\">\n",
       "      <th></th>\n",
       "      <th>age</th>\n",
       "      <th>hypertension</th>\n",
       "      <th>heart_disease</th>\n",
       "      <th>avg_glucose_level</th>\n",
       "      <th>bmi</th>\n",
       "      <th>gender_Female</th>\n",
       "      <th>gender_Male</th>\n",
       "      <th>gender_Other</th>\n",
       "      <th>ever_married_No</th>\n",
       "      <th>ever_married_Yes</th>\n",
       "      <th>...</th>\n",
       "      <th>work_type_Never_worked</th>\n",
       "      <th>work_type_Private</th>\n",
       "      <th>work_type_Self-employed</th>\n",
       "      <th>work_type_children</th>\n",
       "      <th>Residence_type_Rural</th>\n",
       "      <th>Residence_type_Urban</th>\n",
       "      <th>smoking_status_Unknown</th>\n",
       "      <th>smoking_status_formerly smoked</th>\n",
       "      <th>smoking_status_never smoked</th>\n",
       "      <th>smoking_status_smokes</th>\n",
       "    </tr>\n",
       "  </thead>\n",
       "  <tbody>\n",
       "    <tr>\n",
       "      <th>2648</th>\n",
       "      <td>0.634146</td>\n",
       "      <td>0</td>\n",
       "      <td>0</td>\n",
       "      <td>0.148370</td>\n",
       "      <td>0.341352</td>\n",
       "      <td>0</td>\n",
       "      <td>1</td>\n",
       "      <td>0</td>\n",
       "      <td>0</td>\n",
       "      <td>1</td>\n",
       "      <td>...</td>\n",
       "      <td>0</td>\n",
       "      <td>0</td>\n",
       "      <td>0</td>\n",
       "      <td>0</td>\n",
       "      <td>1</td>\n",
       "      <td>0</td>\n",
       "      <td>0</td>\n",
       "      <td>0</td>\n",
       "      <td>0</td>\n",
       "      <td>1</td>\n",
       "    </tr>\n",
       "    <tr>\n",
       "      <th>3441</th>\n",
       "      <td>0.719512</td>\n",
       "      <td>0</td>\n",
       "      <td>0</td>\n",
       "      <td>0.161296</td>\n",
       "      <td>0.213058</td>\n",
       "      <td>1</td>\n",
       "      <td>0</td>\n",
       "      <td>0</td>\n",
       "      <td>0</td>\n",
       "      <td>1</td>\n",
       "      <td>...</td>\n",
       "      <td>0</td>\n",
       "      <td>0</td>\n",
       "      <td>1</td>\n",
       "      <td>0</td>\n",
       "      <td>0</td>\n",
       "      <td>1</td>\n",
       "      <td>0</td>\n",
       "      <td>0</td>\n",
       "      <td>0</td>\n",
       "      <td>1</td>\n",
       "    </tr>\n",
       "    <tr>\n",
       "      <th>4935</th>\n",
       "      <td>0.195122</td>\n",
       "      <td>0</td>\n",
       "      <td>0</td>\n",
       "      <td>0.194396</td>\n",
       "      <td>0.232532</td>\n",
       "      <td>0</td>\n",
       "      <td>1</td>\n",
       "      <td>0</td>\n",
       "      <td>1</td>\n",
       "      <td>0</td>\n",
       "      <td>...</td>\n",
       "      <td>0</td>\n",
       "      <td>1</td>\n",
       "      <td>0</td>\n",
       "      <td>0</td>\n",
       "      <td>1</td>\n",
       "      <td>0</td>\n",
       "      <td>0</td>\n",
       "      <td>0</td>\n",
       "      <td>1</td>\n",
       "      <td>0</td>\n",
       "    </tr>\n",
       "    <tr>\n",
       "      <th>1316</th>\n",
       "      <td>0.256098</td>\n",
       "      <td>0</td>\n",
       "      <td>0</td>\n",
       "      <td>0.366217</td>\n",
       "      <td>0.215349</td>\n",
       "      <td>1</td>\n",
       "      <td>0</td>\n",
       "      <td>0</td>\n",
       "      <td>1</td>\n",
       "      <td>0</td>\n",
       "      <td>...</td>\n",
       "      <td>0</td>\n",
       "      <td>1</td>\n",
       "      <td>0</td>\n",
       "      <td>0</td>\n",
       "      <td>0</td>\n",
       "      <td>1</td>\n",
       "      <td>0</td>\n",
       "      <td>0</td>\n",
       "      <td>1</td>\n",
       "      <td>0</td>\n",
       "    </tr>\n",
       "    <tr>\n",
       "      <th>3271</th>\n",
       "      <td>0.439024</td>\n",
       "      <td>0</td>\n",
       "      <td>0</td>\n",
       "      <td>0.090066</td>\n",
       "      <td>0.243986</td>\n",
       "      <td>0</td>\n",
       "      <td>1</td>\n",
       "      <td>0</td>\n",
       "      <td>0</td>\n",
       "      <td>1</td>\n",
       "      <td>...</td>\n",
       "      <td>0</td>\n",
       "      <td>1</td>\n",
       "      <td>0</td>\n",
       "      <td>0</td>\n",
       "      <td>1</td>\n",
       "      <td>0</td>\n",
       "      <td>0</td>\n",
       "      <td>1</td>\n",
       "      <td>0</td>\n",
       "      <td>0</td>\n",
       "    </tr>\n",
       "    <tr>\n",
       "      <th>1628</th>\n",
       "      <td>0.841463</td>\n",
       "      <td>0</td>\n",
       "      <td>1</td>\n",
       "      <td>0.746838</td>\n",
       "      <td>0.223368</td>\n",
       "      <td>0</td>\n",
       "      <td>1</td>\n",
       "      <td>0</td>\n",
       "      <td>0</td>\n",
       "      <td>1</td>\n",
       "      <td>...</td>\n",
       "      <td>0</td>\n",
       "      <td>1</td>\n",
       "      <td>0</td>\n",
       "      <td>0</td>\n",
       "      <td>1</td>\n",
       "      <td>0</td>\n",
       "      <td>0</td>\n",
       "      <td>1</td>\n",
       "      <td>0</td>\n",
       "      <td>0</td>\n",
       "    </tr>\n",
       "    <tr>\n",
       "      <th>843</th>\n",
       "      <td>0.231707</td>\n",
       "      <td>0</td>\n",
       "      <td>0</td>\n",
       "      <td>0.133598</td>\n",
       "      <td>0.164948</td>\n",
       "      <td>1</td>\n",
       "      <td>0</td>\n",
       "      <td>0</td>\n",
       "      <td>1</td>\n",
       "      <td>0</td>\n",
       "      <td>...</td>\n",
       "      <td>0</td>\n",
       "      <td>0</td>\n",
       "      <td>1</td>\n",
       "      <td>0</td>\n",
       "      <td>0</td>\n",
       "      <td>1</td>\n",
       "      <td>0</td>\n",
       "      <td>0</td>\n",
       "      <td>1</td>\n",
       "      <td>0</td>\n",
       "    </tr>\n",
       "    <tr>\n",
       "      <th>1046</th>\n",
       "      <td>0.548780</td>\n",
       "      <td>0</td>\n",
       "      <td>0</td>\n",
       "      <td>0.099714</td>\n",
       "      <td>0.215349</td>\n",
       "      <td>0</td>\n",
       "      <td>1</td>\n",
       "      <td>0</td>\n",
       "      <td>0</td>\n",
       "      <td>1</td>\n",
       "      <td>...</td>\n",
       "      <td>0</td>\n",
       "      <td>1</td>\n",
       "      <td>0</td>\n",
       "      <td>0</td>\n",
       "      <td>0</td>\n",
       "      <td>1</td>\n",
       "      <td>1</td>\n",
       "      <td>0</td>\n",
       "      <td>0</td>\n",
       "      <td>0</td>\n",
       "    </tr>\n",
       "    <tr>\n",
       "      <th>2721</th>\n",
       "      <td>0.207317</td>\n",
       "      <td>0</td>\n",
       "      <td>0</td>\n",
       "      <td>0.154418</td>\n",
       "      <td>0.238259</td>\n",
       "      <td>1</td>\n",
       "      <td>0</td>\n",
       "      <td>0</td>\n",
       "      <td>1</td>\n",
       "      <td>0</td>\n",
       "      <td>...</td>\n",
       "      <td>1</td>\n",
       "      <td>0</td>\n",
       "      <td>0</td>\n",
       "      <td>0</td>\n",
       "      <td>1</td>\n",
       "      <td>0</td>\n",
       "      <td>0</td>\n",
       "      <td>0</td>\n",
       "      <td>1</td>\n",
       "      <td>0</td>\n",
       "    </tr>\n",
       "    <tr>\n",
       "      <th>2731</th>\n",
       "      <td>0.646341</td>\n",
       "      <td>0</td>\n",
       "      <td>0</td>\n",
       "      <td>0.085311</td>\n",
       "      <td>0.191294</td>\n",
       "      <td>1</td>\n",
       "      <td>0</td>\n",
       "      <td>0</td>\n",
       "      <td>0</td>\n",
       "      <td>1</td>\n",
       "      <td>...</td>\n",
       "      <td>0</td>\n",
       "      <td>1</td>\n",
       "      <td>0</td>\n",
       "      <td>0</td>\n",
       "      <td>0</td>\n",
       "      <td>1</td>\n",
       "      <td>0</td>\n",
       "      <td>0</td>\n",
       "      <td>1</td>\n",
       "      <td>0</td>\n",
       "    </tr>\n",
       "  </tbody>\n",
       "</table>\n",
       "<p>10 rows × 21 columns</p>\n",
       "</div>"
      ],
      "text/plain": [
       "           age  hypertension  heart_disease  avg_glucose_level       bmi  \\\n",
       "2648  0.634146             0              0           0.148370  0.341352   \n",
       "3441  0.719512             0              0           0.161296  0.213058   \n",
       "4935  0.195122             0              0           0.194396  0.232532   \n",
       "1316  0.256098             0              0           0.366217  0.215349   \n",
       "3271  0.439024             0              0           0.090066  0.243986   \n",
       "1628  0.841463             0              1           0.746838  0.223368   \n",
       "843   0.231707             0              0           0.133598  0.164948   \n",
       "1046  0.548780             0              0           0.099714  0.215349   \n",
       "2721  0.207317             0              0           0.154418  0.238259   \n",
       "2731  0.646341             0              0           0.085311  0.191294   \n",
       "\n",
       "      gender_Female  gender_Male  gender_Other  ever_married_No  \\\n",
       "2648              0            1             0                0   \n",
       "3441              1            0             0                0   \n",
       "4935              0            1             0                1   \n",
       "1316              1            0             0                1   \n",
       "3271              0            1             0                0   \n",
       "1628              0            1             0                0   \n",
       "843               1            0             0                1   \n",
       "1046              0            1             0                0   \n",
       "2721              1            0             0                1   \n",
       "2731              1            0             0                0   \n",
       "\n",
       "      ever_married_Yes  ...  work_type_Never_worked  work_type_Private  \\\n",
       "2648                 1  ...                       0                  0   \n",
       "3441                 1  ...                       0                  0   \n",
       "4935                 0  ...                       0                  1   \n",
       "1316                 0  ...                       0                  1   \n",
       "3271                 1  ...                       0                  1   \n",
       "1628                 1  ...                       0                  1   \n",
       "843                  0  ...                       0                  0   \n",
       "1046                 1  ...                       0                  1   \n",
       "2721                 0  ...                       1                  0   \n",
       "2731                 1  ...                       0                  1   \n",
       "\n",
       "      work_type_Self-employed  work_type_children  Residence_type_Rural  \\\n",
       "2648                        0                   0                     1   \n",
       "3441                        1                   0                     0   \n",
       "4935                        0                   0                     1   \n",
       "1316                        0                   0                     0   \n",
       "3271                        0                   0                     1   \n",
       "1628                        0                   0                     1   \n",
       "843                         1                   0                     0   \n",
       "1046                        0                   0                     0   \n",
       "2721                        0                   0                     1   \n",
       "2731                        0                   0                     0   \n",
       "\n",
       "      Residence_type_Urban  smoking_status_Unknown  \\\n",
       "2648                     0                       0   \n",
       "3441                     1                       0   \n",
       "4935                     0                       0   \n",
       "1316                     1                       0   \n",
       "3271                     0                       0   \n",
       "1628                     0                       0   \n",
       "843                      1                       0   \n",
       "1046                     1                       1   \n",
       "2721                     0                       0   \n",
       "2731                     1                       0   \n",
       "\n",
       "      smoking_status_formerly smoked  smoking_status_never smoked  \\\n",
       "2648                               0                            0   \n",
       "3441                               0                            0   \n",
       "4935                               0                            1   \n",
       "1316                               0                            1   \n",
       "3271                               1                            0   \n",
       "1628                               1                            0   \n",
       "843                                0                            1   \n",
       "1046                               0                            0   \n",
       "2721                               0                            1   \n",
       "2731                               0                            1   \n",
       "\n",
       "      smoking_status_smokes  \n",
       "2648                      1  \n",
       "3441                      1  \n",
       "4935                      0  \n",
       "1316                      0  \n",
       "3271                      0  \n",
       "1628                      0  \n",
       "843                       0  \n",
       "1046                      0  \n",
       "2721                      0  \n",
       "2731                      0  \n",
       "\n",
       "[10 rows x 21 columns]"
      ]
     },
     "execution_count": 21,
     "metadata": {},
     "output_type": "execute_result"
    }
   ],
   "source": [
    "x_valid.head(10)"
   ]
  },
  {
   "cell_type": "code",
   "execution_count": 22,
   "id": "00431e67",
   "metadata": {
    "id": "00431e67"
   },
   "outputs": [
    {
     "data": {
      "text/plain": [
       "MultinomialNB(alpha=0.01)"
      ]
     },
     "execution_count": 22,
     "metadata": {},
     "output_type": "execute_result"
    }
   ],
   "source": [
    "# run naive Bayes\n",
    "stroke_NB = MultinomialNB(alpha=0.01)\n",
    "stroke_NB.fit(NBxtrain, NBytrain)"
   ]
  },
  {
   "cell_type": "code",
   "execution_count": 23,
   "id": "956a6120",
   "metadata": {
    "id": "956a6120"
   },
   "outputs": [],
   "source": [
    "# predict probabilities\n",
    "predProb_train = stroke_NB.predict_proba(NBxtrain)\n",
    "predProb_valid = stroke_NB.predict_proba(NBxvalid)"
   ]
  },
  {
   "cell_type": "code",
   "execution_count": 24,
   "id": "f4812ee8",
   "metadata": {
    "id": "f4812ee8"
   },
   "outputs": [],
   "source": [
    "# predict class membership\n",
    "y_valid_pred = stroke_NB.predict(NBxvalid)\n",
    "y_train_pred = stroke_NB.predict(NBxtrain)"
   ]
  },
  {
   "cell_type": "code",
   "execution_count": 25,
   "id": "0b68e5d3",
   "metadata": {
    "id": "0b68e5d3"
   },
   "outputs": [
    {
     "name": "stdout",
     "output_type": "stream",
     "text": [
      "      actual  predicted\n",
      "1046       0          0\n",
      "1652       0          0\n",
      "927        0          0\n",
      "3517       0          0\n",
      "989        0          0\n",
      "364        0          0\n",
      "1099       0          0\n",
      "590        0          0\n",
      "2836       0          0\n",
      "1909       0          0\n",
      "4108       0          0\n",
      "1799       0          0\n",
      "3026       0          0\n",
      "1618       0          0\n",
      "1607       0          0\n",
      "4634       0          0\n",
      "3368       0          0\n",
      "2661       0          0\n",
      "1401       0          0\n",
      "5075       0          0\n",
      "2625       0          0\n",
      "67         1          0\n",
      "3293       0          0\n",
      "2469       0          0\n",
      "1166       0          0\n",
      "2044       0          0\n",
      "2029       0          0\n",
      "5063       0          0\n",
      "4962       0          0\n",
      "3302       0          0\n",
      "767        0          0\n",
      "5046       0          0\n",
      "518        0          0\n",
      "89         1          0\n",
      "236        1          0\n",
      "991        0          0\n",
      "1700       0          0\n",
      "2524       0          0\n",
      "3989       0          0\n"
     ]
    }
   ],
   "source": [
    "# Use the model to predict a new data\n",
    "new_df = pd.concat([pd.DataFrame({'actual': NByvalid, 'predicted': y_valid_pred})], axis=1)\n",
    "mask = ((NBxvalid.gender_Male == 1) & (NBxvalid.ever_married_Yes == 1) & (NBxvalid.work_type_Private == 1) &\n",
    "        (NBxvalid.Residence_type_Urban == 1)) & (NBxvalid.smoking_status_Unknown == 1)\n",
    "\n",
    "print(new_df[mask])"
   ]
  },
  {
   "cell_type": "code",
   "execution_count": 26,
   "id": "e3d5fc8b",
   "metadata": {
    "id": "e3d5fc8b"
   },
   "outputs": [
    {
     "name": "stdout",
     "output_type": "stream",
     "text": [
      "Accuracy of Naive Bayes:  0.9495926680244399\n"
     ]
    }
   ],
   "source": [
    "# Calculating the accuracy score of the algorithm\n",
    "accNB = accuracy_score(NByvalid, y_valid_pred)\n",
    "\n",
    "print(\"Accuracy of Naive Bayes: \", accNB)"
   ]
  },
  {
   "cell_type": "markdown",
   "id": "dea91c17",
   "metadata": {},
   "source": [
    "Note: We will calculate the accuracy of the algorithms based on the validation dataset as we want to know the accuracy of the predictive models on unseen and unused data"
   ]
  },
  {
   "cell_type": "code",
   "execution_count": 27,
   "id": "cb19daa7",
   "metadata": {
    "scrolled": true
   },
   "outputs": [
    {
     "name": "stdout",
     "output_type": "stream",
     "text": [
      "Confusion Matrix (Accuracy 0.9496)\n",
      "\n",
      "       Prediction\n",
      "Actual    0    1\n",
      "     0 1862   19\n",
      "     1   80    3\n"
     ]
    }
   ],
   "source": [
    "classificationSummary(NByvalid, y_valid_pred)"
   ]
  },
  {
   "cell_type": "markdown",
   "id": "a412ae95",
   "metadata": {
    "id": "a412ae95"
   },
   "source": [
    "# K-Nearest Neighbors"
   ]
  },
  {
   "cell_type": "code",
   "execution_count": 28,
   "id": "5bde879d",
   "metadata": {
    "id": "5bde879d"
   },
   "outputs": [
    {
     "name": "stdout",
     "output_type": "stream",
     "text": [
      "(2945, 22) (1964, 22)\n"
     ]
    }
   ],
   "source": [
    "# Merge the dataframes horizontally using the 'id' column as the key\n",
    "train_KNN = pd.concat([x_train, y_train], axis=1, join='outer')\n",
    "valid_KNN = pd.concat([x_valid, y_valid], axis=1, join='outer')\n",
    "\n",
    "# Print the resulting merged dataframe\n",
    "print(train_KNN.shape, valid_KNN.shape)"
   ]
  },
  {
   "cell_type": "code",
   "execution_count": 29,
   "id": "2fc3a886",
   "metadata": {
    "id": "2fc3a886"
   },
   "outputs": [
    {
     "data": {
      "text/html": [
       "<div>\n",
       "<style scoped>\n",
       "    .dataframe tbody tr th:only-of-type {\n",
       "        vertical-align: middle;\n",
       "    }\n",
       "\n",
       "    .dataframe tbody tr th {\n",
       "        vertical-align: top;\n",
       "    }\n",
       "\n",
       "    .dataframe thead th {\n",
       "        text-align: right;\n",
       "    }\n",
       "</style>\n",
       "<table border=\"1\" class=\"dataframe\">\n",
       "  <thead>\n",
       "    <tr style=\"text-align: right;\">\n",
       "      <th></th>\n",
       "      <th>age</th>\n",
       "      <th>bmi</th>\n",
       "    </tr>\n",
       "  </thead>\n",
       "  <tbody>\n",
       "    <tr>\n",
       "      <th>0</th>\n",
       "      <td>0.24</td>\n",
       "      <td>0.63</td>\n",
       "    </tr>\n",
       "  </tbody>\n",
       "</table>\n",
       "</div>"
      ],
      "text/plain": [
       "    age   bmi\n",
       "0  0.24  0.63"
      ]
     },
     "execution_count": 29,
     "metadata": {},
     "output_type": "execute_result"
    }
   ],
   "source": [
    "newFD = pd.DataFrame([{'age': 0.24, 'bmi': 0.63}])\n",
    "newFD"
   ]
  },
  {
   "cell_type": "code",
   "execution_count": 30,
   "id": "44ed2b99",
   "metadata": {
    "id": "44ed2b99"
   },
   "outputs": [],
   "source": [
    "newFD_1 = train_KNN.sample(50)"
   ]
  },
  {
   "cell_type": "code",
   "execution_count": 31,
   "id": "22e6d211",
   "metadata": {
    "id": "22e6d211"
   },
   "outputs": [
    {
     "data": {
      "image/png": "[encoded data removed]",
      "text/plain": [
       "<Figure size 432x288 with 1 Axes>"
      ]
     },
     "metadata": {
      "needs_background": "light"
     },
     "output_type": "display_data"
    }
   ],
   "source": [
    "# Plotting the dataframe using Scatter Plot\n",
    "fig, ax = plt.subplots()\n",
    "\n",
    "subset = newFD_1.loc[newFD_1['stroke'] == 0]\n",
    "ax.scatter(subset.bmi, subset.age, marker = 'D', label = 'No Stroke', color = 'green')\n",
    "\n",
    "subset = newFD_1.loc[newFD_1['stroke'] == 1]\n",
    "ax.scatter(subset.bmi, subset.age, marker = 'o', label = 'Stroke', color = 'red')\n",
    "\n",
    "ax.scatter(newFD.age, newFD.bmi, marker = '*', label = 'New Person', color = 'black', s = 300)\n",
    "\n",
    "plt.xlabel('BMI')\n",
    "plt.ylabel('Age')\n",
    "\n",
    "handles, labels = ax.get_legend_handles_labels()\n",
    "ax.set_xlim(0, 1)\n",
    "ax.set_ylim(0, 1)\n",
    "ax.legend(handles, labels, loc=4)\n",
    "plt.show()"
   ]
  },
  {
   "cell_type": "code",
   "execution_count": 32,
   "id": "77e6f1f6",
   "metadata": {
    "id": "77e6f1f6"
   },
   "outputs": [
    {
     "name": "stdout",
     "output_type": "stream",
     "text": [
      "           age  hypertension  heart_disease  avg_glucose_level       bmi  \\\n",
      "2764  0.292683             0              0           0.140476  0.607102   \n",
      "4188  0.329268             0              0           0.013111  0.619702   \n",
      "672   0.207317             0              0           0.058582  0.520046   \n",
      "\n",
      "      gender_Female  gender_Male  gender_Other  ever_married_No  \\\n",
      "2764              1            0             0                0   \n",
      "4188              1            0             0                0   \n",
      "672               1            0             0                1   \n",
      "\n",
      "      ever_married_Yes  ...  work_type_Private  work_type_Self-employed  \\\n",
      "2764                 1  ...                  1                        0   \n",
      "4188                 1  ...                  1                        0   \n",
      "672                  0  ...                  1                        0   \n",
      "\n",
      "      work_type_children  Residence_type_Rural  Residence_type_Urban  \\\n",
      "2764                   0                     0                     1   \n",
      "4188                   0                     1                     0   \n",
      "672                    0                     0                     1   \n",
      "\n",
      "      smoking_status_Unknown  smoking_status_formerly smoked  \\\n",
      "2764                       0                               0   \n",
      "4188                       0                               0   \n",
      "672                        0                               0   \n",
      "\n",
      "      smoking_status_never smoked  smoking_status_smokes  stroke  \n",
      "2764                            1                      0       0  \n",
      "4188                            1                      0       0  \n",
      "672                             1                      0       0  \n",
      "\n",
      "[3 rows x 22 columns]\n"
     ]
    }
   ],
   "source": [
    "# Fit the KNN Model = 3\n",
    "knn = NearestNeighbors (n_neighbors = 3)\n",
    "knn.fit(train_KNN[['age','bmi']])\n",
    "distances, indices = knn.kneighbors(newFD)\n",
    "\n",
    "print(train_KNN.iloc[indices[0], :])"
   ]
  },
  {
   "cell_type": "code",
   "execution_count": 33,
   "id": "e3fe207b",
   "metadata": {
    "id": "e3fe207b"
   },
   "outputs": [],
   "source": [
    "#Measuring the accuracy of different k values on validation set\n",
    "train_X = train_KNN[['age', 'bmi']]\n",
    "train_y = train_KNN['stroke']\n",
    "valid_X = valid_KNN[['age', 'bmi']]\n",
    "valid_y = valid_KNN['stroke']"
   ]
  },
  {
   "cell_type": "code",
   "execution_count": 34,
   "id": "dd0d40a4",
   "metadata": {
    "id": "dd0d40a4"
   },
   "outputs": [
    {
     "name": "stdout",
     "output_type": "stream",
     "text": [
      "     k  accuracy\n",
      "0    1  0.926680\n",
      "1    2  0.953157\n",
      "2    3  0.947556\n",
      "3    4  0.954175\n",
      "4    5  0.953666\n",
      "5    6  0.957230\n",
      "6    7  0.956212\n",
      "7    8  0.957230\n",
      "8    9  0.956212\n",
      "9   10  0.957230\n",
      "10  11  0.956721\n",
      "11  12  0.957739\n",
      "12  13  0.957739\n",
      "13  14  0.957739\n",
      "14  15  0.957739\n",
      "15  16  0.957739\n",
      "16  17  0.957739\n",
      "17  18  0.957739\n",
      "18  19  0.957739\n"
     ]
    }
   ],
   "source": [
    "# Train a classifier for different values of k\n",
    "results = []\n",
    "for k in range(1, 20):\n",
    "    knn = KNeighborsClassifier(n_neighbors = k).fit(train_X, train_y)\n",
    "    results.append({\n",
    "        'k': k,\n",
    "        'accuracy': accuracy_score(valid_y, knn.predict(valid_X))\n",
    "    })\n",
    "\n",
    "# Convert results to a pandas data frame\n",
    "results = pd.DataFrame(results)\n",
    "print(results)"
   ]
  },
  {
   "cell_type": "code",
   "execution_count": 35,
   "id": "5f4792f6",
   "metadata": {
    "id": "5f4792f6"
   },
   "outputs": [
    {
     "name": "stdout",
     "output_type": "stream",
     "text": [
      "[0]\n",
      "Distances [[0.05744399 0.0898603  0.11470874 0.13363277 0.13518757 0.14961533\n",
      "  0.15101549 0.15817101 0.16872144 0.17826553 0.17970564 0.18384122]]\n",
      "Indices [[2636 4010  624 1482  666  616  872 2027  448 1557 3381 3537]]\n",
      "         id  gender       age  hypertension  heart_disease ever_married  \\\n",
      "2764  20292  Female  0.292683             0              0          Yes   \n",
      "4188  70670  Female  0.329268             0              0          Yes   \n",
      "672   31145  Female  0.207317             0              0           No   \n",
      "1564   3178  Female  0.304878             0              0          Yes   \n",
      "715    3590  Female  0.341463             1              0           No   \n",
      "662   23551    Male  0.341463             0              0          Yes   \n",
      "928   41097  Female  0.280488             1              0           No   \n",
      "2136  59745  Female  0.329268             0              0          Yes   \n",
      "493   66570  Female  0.280488             0              0           No   \n",
      "1641  50889  Female  0.256098             0              0           No   \n",
      "3541  18891    Male  0.292683             0              0           No   \n",
      "3702   7730    Male  0.378049             0              0           No   \n",
      "\n",
      "     work_type Residence_type  avg_glucose_level       bmi   smoking_status  \\\n",
      "2764   Private          Urban           0.140476  0.607102     never smoked   \n",
      "4188   Private          Rural           0.013111  0.619702     never smoked   \n",
      "672    Private          Urban           0.058582  0.520046     never smoked   \n",
      "1564   Private          Rural           0.063060  0.513173  formerly smoked   \n",
      "715    Private          Rural           0.116702  0.540664     never smoked   \n",
      "662    Private          Urban           0.149155  0.520046          Unknown   \n",
      "928    Private          Urban           0.068830  0.775487           smokes   \n",
      "2136   Private          Urban           0.099806  0.499427          Unknown   \n",
      "493    Private          Rural           0.065183  0.466208     never smoked   \n",
      "1641  Govt_job          Rural           0.006971  0.452463     never smoked   \n",
      "3541  Govt_job          Rural           0.205567  0.458190     never smoked   \n",
      "3702   Private          Rural           0.183917  0.508591           smokes   \n",
      "\n",
      "      stroke  \n",
      "2764       0  \n",
      "4188       0  \n",
      "672        0  \n",
      "1564       0  \n",
      "715        0  \n",
      "662        0  \n",
      "928        0  \n",
      "2136       0  \n",
      "493        0  \n",
      "1641       0  \n",
      "3541       0  \n",
      "3702       0  \n"
     ]
    }
   ],
   "source": [
    "# Retrain with full dataset\n",
    "stroke_X = stroke_df[['age', 'bmi']]\n",
    "stroke_y = stroke_df['stroke']\n",
    "knn = KNeighborsClassifier(n_neighbors = 12).fit(stroke_X, stroke_y)\n",
    "distances, indices = knn.kneighbors(newFD)\n",
    "print(knn.predict(newFD))\n",
    "print('Distances',distances)\n",
    "print('Indices', indices)\n",
    "print(stroke_df.iloc[indices[0], :])"
   ]
  },
  {
   "cell_type": "code",
   "execution_count": 36,
   "id": "2d21bab3",
   "metadata": {
    "id": "2d21bab3"
   },
   "outputs": [],
   "source": [
    "# Use the classifier to make predictions on the test set\n",
    "y_pred_knn = knn.predict(valid_X)"
   ]
  },
  {
   "cell_type": "code",
   "execution_count": 37,
   "id": "4fba3ec9",
   "metadata": {
    "id": "4fba3ec9"
   },
   "outputs": [
    {
     "name": "stdout",
     "output_type": "stream",
     "text": [
      "Accuracy of K-Nearest Neighbors:  0.9577393075356415\n"
     ]
    }
   ],
   "source": [
    "# Calculating the accuracy score of the algorithm\n",
    "accKNN = accuracy_score(valid_y, y_pred_knn)\n",
    "\n",
    "print(\"Accuracy of K-Nearest Neighbors: \", accKNN)"
   ]
  },
  {
   "cell_type": "code",
   "execution_count": 38,
   "id": "ea6df525",
   "metadata": {},
   "outputs": [
    {
     "name": "stdout",
     "output_type": "stream",
     "text": [
      "Confusion Matrix (Accuracy 0.9577)\n",
      "\n",
      "       Prediction\n",
      "Actual    0    1\n",
      "     0 1881    0\n",
      "     1   83    0\n"
     ]
    }
   ],
   "source": [
    "classificationSummary(valid_y, y_pred_knn)"
   ]
  },
  {
   "cell_type": "markdown",
   "id": "df214fac",
   "metadata": {
    "id": "df214fac"
   },
   "source": [
    "# Linear Regression"
   ]
  },
  {
   "cell_type": "code",
   "execution_count": 39,
   "id": "1b71de98",
   "metadata": {
    "id": "1b71de98"
   },
   "outputs": [
    {
     "data": {
      "text/plain": [
       "LinearRegression()"
      ]
     },
     "execution_count": 39,
     "metadata": {},
     "output_type": "execute_result"
    }
   ],
   "source": [
    "#Building the Linear Regressiom model based on the training data\n",
    "stroke_lr = LinearRegression()\n",
    "stroke_lr.fit(x_train, y_train)"
   ]
  },
  {
   "cell_type": "code",
   "execution_count": 40,
   "id": "3495be02",
   "metadata": {
    "id": "3495be02"
   },
   "outputs": [
    {
     "name": "stdout",
     "output_type": "stream",
     "text": [
      "                         Predictor   Coefficient\n",
      "0                              age  2.132360e-01\n",
      "1                     hypertension  2.573706e-02\n",
      "2                    heart_disease  8.105342e-02\n",
      "3                avg_glucose_level  7.405295e-02\n",
      "4                              bmi -4.368551e-02\n",
      "5                    gender_Female  3.495648e+13\n",
      "6                      gender_Male  3.495648e+13\n",
      "7                     gender_Other  3.495648e+13\n",
      "8                  ever_married_No  2.009163e+12\n",
      "9                 ever_married_Yes  2.009163e+12\n",
      "10              work_type_Govt_job -3.943565e+11\n",
      "11          work_type_Never_worked -3.943565e+11\n",
      "12               work_type_Private -3.943565e+11\n",
      "13         work_type_Self-employed -3.943565e+11\n",
      "14              work_type_children -3.943565e+11\n",
      "15            Residence_type_Rural -2.619492e+12\n",
      "16            Residence_type_Urban -2.619492e+12\n",
      "17          smoking_status_Unknown -7.448599e+11\n",
      "18  smoking_status_formerly smoked -7.448599e+11\n",
      "19     smoking_status_never smoked -7.448599e+11\n",
      "20           smoking_status_smokes -7.448599e+11\n"
     ]
    }
   ],
   "source": [
    "#Printing coefficients\n",
    "print(pd.DataFrame({'Predictor': x.columns, 'Coefficient': stroke_lr.coef_}))"
   ]
  },
  {
   "cell_type": "code",
   "execution_count": 41,
   "id": "bf1cb63d",
   "metadata": {
    "id": "bf1cb63d"
   },
   "outputs": [
    {
     "name": "stdout",
     "output_type": "stream",
     "text": [
      "\n",
      "Regression statistics\n",
      "\n",
      "               Mean Error (ME) : -0.0021\n",
      "Root Mean Squared Error (RMSE) : 0.1945\n",
      "     Mean Absolute Error (MAE) : 0.0871\n"
     ]
    }
   ],
   "source": [
    "#Printing the performance measures (training data)\n",
    "regressionSummary(y_train, stroke_lr.predict(x_train))"
   ]
  },
  {
   "cell_type": "code",
   "execution_count": 42,
   "id": "89c119e5",
   "metadata": {
    "id": "89c119e5"
   },
   "outputs": [
    {
     "name": "stdout",
     "output_type": "stream",
     "text": [
      "      Predicted  Actual  Residual\n",
      "2648   0.058594       0 -0.058594\n",
      "3441   0.039062       0 -0.039062\n",
      "4935   0.007812       0 -0.007812\n",
      "1316  -0.003906       0  0.003906\n",
      "3271   0.031250       0 -0.031250\n",
      "1628   0.250000       0 -0.250000\n",
      "843   -0.058594       0  0.058594\n",
      "1046   0.027344       0 -0.027344\n",
      "2721  -0.015625       0  0.015625\n",
      "2731   0.027344       0 -0.027344\n",
      "563    0.097656       0 -0.097656\n",
      "1155   0.015625       0 -0.015625\n",
      "1538   0.000000       0  0.000000\n",
      "4161   0.042969       0 -0.042969\n",
      "4311   0.101562       0 -0.101562\n",
      "1078   0.027344       0 -0.027344\n",
      "2551  -0.019531       0  0.019531\n",
      "3000   0.011719       0 -0.011719\n",
      "4610  -0.015625       0  0.015625\n",
      "1302   0.062500       0 -0.062500\n"
     ]
    }
   ],
   "source": [
    "#Using the predict() to make predictions on a new set\n",
    "stroke_lr_pred = stroke_lr.predict(x_valid)\n",
    "result = pd.DataFrame({'Predicted': stroke_lr_pred, 'Actual': y_valid, 'Residual': y_valid - stroke_lr_pred})\n",
    "print(result.head(20))"
   ]
  },
  {
   "cell_type": "code",
   "execution_count": 43,
   "id": "09fcb2bc",
   "metadata": {
    "id": "09fcb2bc"
   },
   "outputs": [
    {
     "name": "stdout",
     "output_type": "stream",
     "text": [
      "\n",
      "Regression statistics\n",
      "\n",
      "               Mean Error (ME) : -0.0017\n",
      "Root Mean Squared Error (RMSE) : 0.1948\n",
      "     Mean Absolute Error (MAE) : 0.0873\n"
     ]
    }
   ],
   "source": [
    "#Printing the performace measures (validation data)\n",
    "regressionSummary(y_valid, stroke_lr.predict(x_valid))"
   ]
  },
  {
   "cell_type": "code",
   "execution_count": 44,
   "id": "490e9838",
   "metadata": {
    "id": "490e9838"
   },
   "outputs": [],
   "source": [
    "#Validation Error - Evaluate Perfomance\n",
    "stroke_lr_pred = stroke_lr.predict(x_valid)\n",
    "all_residuals = y_valid - stroke_lr_pred"
   ]
  },
  {
   "cell_type": "code",
   "execution_count": 45,
   "id": "2f93cd3f",
   "metadata": {
    "id": "2f93cd3f"
   },
   "outputs": [
    {
     "name": "stdout",
     "output_type": "stream",
     "text": [
      "0.9394093686354379\n"
     ]
    }
   ],
   "source": [
    "#Determining the percentage of datapoint with a residual in [-0.2, 0.2]\n",
    "resLR1 = len(all_residuals[(all_residuals > -0.2) & (all_residuals < 0.2)]) / len(all_residuals)\n",
    "\n",
    "print(resLR1)"
   ]
  },
  {
   "cell_type": "markdown",
   "id": "0882b222",
   "metadata": {},
   "source": [
    "SUSBSET SELECTION ALGORITHM"
   ]
  },
  {
   "cell_type": "code",
   "execution_count": 46,
   "id": "50f70e88",
   "metadata": {},
   "outputs": [],
   "source": [
    "def train_model(variables):\n",
    "    model = LinearRegression()\n",
    "    model.fit(x_train[list(variables)], y_train)\n",
    "    return model\n",
    "\n",
    "def score_model(model, variables):\n",
    "    return AIC_score(y_train, model.predict(x_train[variables]), model)"
   ]
  },
  {
   "cell_type": "code",
   "execution_count": 47,
   "id": "f105aca9",
   "metadata": {},
   "outputs": [
    {
     "name": "stdout",
     "output_type": "stream",
     "text": [
      "Variables: age, hypertension, heart_disease, avg_glucose_level, bmi, gender_Female, gender_Male, gender_Other, ever_married_No, ever_married_Yes, work_type_Govt_job, work_type_Never_worked, work_type_Private, work_type_Self-employed, work_type_children, Residence_type_Rural, Residence_type_Urban, smoking_status_Unknown, smoking_status_formerly smoked, smoking_status_never smoked, smoking_status_smokes\n",
      "Start: score=-1239.83\n",
      "Step: score=-1278.27, remove gender_Female\n",
      "Step: score=-1280.27, remove ever_married_No\n",
      "Step: score=-1282.41, remove work_type_Govt_job\n",
      "Step: score=-1284.32, remove smoking_status_never smoked\n",
      "Step: score=-1286.27, remove Residence_type_Rural\n",
      "Step: score=-1288.24, remove gender_Other\n",
      "Step: score=-1289.59, remove work_type_Never_worked\n",
      "Step: score=-1290.51, remove smoking_status_formerly smoked\n",
      "Step: score=-1291.14, remove gender_Male\n",
      "Step: score=-1291.74, remove Residence_type_Urban\n",
      "Step: score=-1292.21, remove work_type_Self-employed\n",
      "Step: score=-1292.75, remove bmi\n",
      "Step: score=-1292.99, remove smoking_status_smokes\n",
      "Step: score=-1292.99, remove None\n"
     ]
    }
   ],
   "source": [
    "allVariables = x_train.columns\n",
    "best_model, best_variables = backward_elimination(allVariables, train_model, score_model, verbose=True)"
   ]
  },
  {
   "cell_type": "code",
   "execution_count": 48,
   "id": "80bd4f70",
   "metadata": {},
   "outputs": [
    {
     "name": "stdout",
     "output_type": "stream",
     "text": [
      "['age', 'hypertension', 'heart_disease', 'avg_glucose_level', 'ever_married_Yes', 'work_type_Private', 'work_type_children', 'smoking_status_Unknown']\n"
     ]
    }
   ],
   "source": [
    "print(best_variables)"
   ]
  },
  {
   "cell_type": "code",
   "execution_count": 49,
   "id": "d1bfa2e2",
   "metadata": {},
   "outputs": [
    {
     "name": "stdout",
     "output_type": "stream",
     "text": [
      "\n",
      "Regression statistics\n",
      "\n",
      "               Mean Error (ME) : 0.0003\n",
      "Root Mean Squared Error (RMSE) : 0.1941\n",
      "     Mean Absolute Error (MAE) : 0.0842\n"
     ]
    }
   ],
   "source": [
    "regressionSummary(y_valid, best_model.predict(x_valid[best_variables]))"
   ]
  },
  {
   "cell_type": "markdown",
   "id": "1825e3a1",
   "metadata": {
    "id": "1825e3a1"
   },
   "source": [
    "# CART"
   ]
  },
  {
   "cell_type": "code",
   "execution_count": 50,
   "id": "331ef7f2",
   "metadata": {
    "id": "331ef7f2"
   },
   "outputs": [],
   "source": [
    "CART_x_train = x_train.copy()\n",
    "CART_x_valid = x_valid.copy()\n",
    "CART_y_train = y_train.copy()\n",
    "CART_y_valid = y_valid.copy()"
   ]
  },
  {
   "cell_type": "code",
   "execution_count": 51,
   "id": "8e262f0a",
   "metadata": {
    "id": "8e262f0a",
    "outputId": "41759775-abf8-4774-d5c9-3ef83bf53b3b"
   },
   "outputs": [
    {
     "name": "stdout",
     "output_type": "stream",
     "text": [
      "yes, there is a risk of stroke\n"
     ]
    },
    {
     "name": "stderr",
     "output_type": "stream",
     "text": [
      "C:\\Users\\guruk\\anaconda3\\lib\\site-packages\\sklearn\\base.py:450: UserWarning: X does not have valid feature names, but DecisionTreeClassifier was fitted with feature names\n",
      "  warnings.warn(\n"
     ]
    }
   ],
   "source": [
    "# Create a decision tree classifier\n",
    "CARTmodel=DecisionTreeClassifier(criterion='gini')\n",
    "CARTmodel.fit(CART_x_train,CART_y_train)\n",
    "if CARTmodel.predict([[0.6341446,0,0,0,0.034807,0.316151,1,0,0,0,1,0,0,0,0,1,0,1,0,0,0]])==0:\n",
    "    print(\"yes, there is a risk of stroke\")\n",
    "else:\n",
    "    print(\"No, there's no risk of stroke\")"
   ]
  },
  {
   "cell_type": "code",
   "execution_count": 52,
   "id": "e209ff85",
   "metadata": {
    "id": "e209ff85",
    "outputId": "13a2e8e3-4347-40cd-f681-0de0b853080a"
   },
   "outputs": [
    {
     "name": "stdout",
     "output_type": "stream",
     "text": [
      "[0]\n"
     ]
    },
    {
     "name": "stderr",
     "output_type": "stream",
     "text": [
      "C:\\Users\\guruk\\anaconda3\\lib\\site-packages\\sklearn\\base.py:450: UserWarning: X does not have valid feature names, but DecisionTreeClassifier was fitted with feature names\n",
      "  warnings.warn(\n"
     ]
    }
   ],
   "source": [
    "X_new = [[0.6341446,0,0,0,0.034807,0.316151,1,0,0,0,1,0,0,0,0,1,0,1,0,0,0]]\n",
    "y_pred = CARTmodel.predict(X_new)\n",
    "print(y_pred)"
   ]
  },
  {
   "cell_type": "code",
   "execution_count": 53,
   "id": "94daef43",
   "metadata": {
    "id": "94daef43"
   },
   "outputs": [],
   "source": [
    "# predict class membership\n",
    "y_valid_pred_CART = CARTmodel.predict(CART_x_valid)"
   ]
  },
  {
   "cell_type": "code",
   "execution_count": 54,
   "id": "d64bcee1",
   "metadata": {
    "id": "d64bcee1",
    "outputId": "851a2a50-ebc8-4567-c565-4fa8b7ffe791"
   },
   "outputs": [
    {
     "name": "stdout",
     "output_type": "stream",
     "text": [
      "0.9495926680244399\n"
     ]
    }
   ],
   "source": [
    "CART_accuracy = accuracy_score(CART_y_valid, y_valid_pred)\n",
    "print(CART_accuracy)"
   ]
  },
  {
   "cell_type": "code",
   "execution_count": 55,
   "id": "b5331e9a",
   "metadata": {},
   "outputs": [
    {
     "name": "stdout",
     "output_type": "stream",
     "text": [
      "Confusion Matrix (Accuracy 0.9170)\n",
      "\n",
      "       Prediction\n",
      "Actual    0    1\n",
      "     0 1790   91\n",
      "     1   72   11\n"
     ]
    }
   ],
   "source": [
    "classificationSummary(CART_y_valid, y_valid_pred_CART)"
   ]
  },
  {
   "cell_type": "markdown",
   "id": "a111452c",
   "metadata": {
    "id": "a111452c"
   },
   "source": [
    "# Logistic Regression"
   ]
  },
  {
   "cell_type": "code",
   "execution_count": 56,
   "id": "63b6a1ac",
   "metadata": {
    "id": "63b6a1ac"
   },
   "outputs": [],
   "source": [
    "LR_x_train = x_train.copy()\n",
    "LR_x_valid = x_valid.copy()\n",
    "LR_y_train = y_train.copy()\n",
    "LR_y_valid = y_valid.copy()"
   ]
  },
  {
   "cell_type": "code",
   "execution_count": 57,
   "id": "169e8f83",
   "metadata": {
    "id": "169e8f83",
    "outputId": "9968b7ee-b0de-42de-8175-e9eb57828294"
   },
   "outputs": [
    {
     "data": {
      "text/plain": [
       "LogisticRegression(max_iter=1000)"
      ]
     },
     "execution_count": 57,
     "metadata": {},
     "output_type": "execute_result"
    }
   ],
   "source": [
    "# Fitting a logistic regression model\n",
    "LRmodel = LogisticRegression(max_iter =1000)\n",
    "LRmodel.fit(LR_x_train, LR_y_train)"
   ]
  },
  {
   "cell_type": "code",
   "execution_count": 58,
   "id": "6c3168a9",
   "metadata": {
    "id": "6c3168a9"
   },
   "outputs": [],
   "source": [
    "# Making predictions on the testing data\n",
    "y_pred_logit = LRmodel.predict(LR_x_valid)"
   ]
  },
  {
   "cell_type": "code",
   "execution_count": 59,
   "id": "d2390226",
   "metadata": {
    "id": "d2390226",
    "outputId": "1a1b6c15-9737-4247-df13-8609c87727c8"
   },
   "outputs": [
    {
     "name": "stdout",
     "output_type": "stream",
     "text": [
      "Accuracy: 95.77%\n"
     ]
    }
   ],
   "source": [
    "# Evaluating the model\n",
    "accuracy = accuracy_score(LR_y_valid, y_pred_logit)\n",
    "print(\"Accuracy: {:.2f}%\".format(accuracy * 100))"
   ]
  },
  {
   "cell_type": "code",
   "execution_count": 60,
   "id": "31fbae3f",
   "metadata": {
    "id": "31fbae3f"
   },
   "outputs": [],
   "source": [
    "### confusion matrix to visualize the performance of model\n",
    "\n",
    "\n",
    "import seaborn as sns\n",
    "from sklearn.metrics import confusion_matrix"
   ]
  },
  {
   "cell_type": "code",
   "execution_count": 61,
   "id": "d0092298",
   "metadata": {
    "id": "d0092298"
   },
   "outputs": [],
   "source": [
    "# Creating a confusion matrix\n",
    "cm = confusion_matrix(LR_y_valid, y_pred_logit)"
   ]
  },
  {
   "cell_type": "code",
   "execution_count": 62,
   "id": "fcf82bb6",
   "metadata": {
    "id": "fcf82bb6",
    "outputId": "1584fe17-f425-4ea0-ee00-4bc44cfaff19"
   },
   "outputs": [
    {
     "data": {
      "text/plain": [
       "<AxesSubplot:>"
      ]
     },
     "execution_count": 62,
     "metadata": {},
     "output_type": "execute_result"
    },
    {
     "data": {
      "image/png": "[encoded data removed]",
      "text/plain": [
       "<Figure size 432x288 with 2 Axes>"
      ]
     },
     "metadata": {
      "needs_background": "light"
     },
     "output_type": "display_data"
    }
   ],
   "source": [
    "# Plotting the confusion matrix\n",
    "sns.heatmap(cm, annot=True, fmt='d', cmap='plasma_r')"
   ]
  },
  {
   "cell_type": "code",
   "execution_count": 63,
   "id": "c7f00ebb",
   "metadata": {
    "id": "c7f00ebb"
   },
   "outputs": [],
   "source": [
    "# Calculating the probabilities for each class\n",
    "y_prob = LRmodel.predict_proba(LR_x_valid)[:, 1]"
   ]
  },
  {
   "cell_type": "code",
   "execution_count": 64,
   "id": "d1176cc7",
   "metadata": {
    "id": "d1176cc7"
   },
   "outputs": [],
   "source": [
    "# Calculating the false positive rate, true positive rate, and thresholds\n",
    "fpr, tpr, thresholds = roc_curve(LR_y_valid, y_prob)"
   ]
  },
  {
   "cell_type": "code",
   "execution_count": 65,
   "id": "b49825ce",
   "metadata": {
    "id": "b49825ce"
   },
   "outputs": [],
   "source": [
    "# Calculating the area under the ROC curve\n",
    "roc_auc = auc(fpr, tpr)"
   ]
  },
  {
   "cell_type": "code",
   "execution_count": 66,
   "id": "33ff3ffe",
   "metadata": {
    "id": "33ff3ffe",
    "outputId": "6ee6c058-a4fc-4bb9-94b8-ba83bf8971b6"
   },
   "outputs": [
    {
     "data": {
      "image/png": "[encoded data removed]",
      "text/plain": [
       "<Figure size 432x288 with 1 Axes>"
      ]
     },
     "metadata": {
      "needs_background": "light"
     },
     "output_type": "display_data"
    }
   ],
   "source": [
    "# Plotting the ROC curve\n",
    "plt.plot(fpr, tpr, color='blue', lw=2, label='ROC curve (area = %0.2f)' % roc_auc)\n",
    "plt.plot([0, 1], [0, 1], color='grey', lw=2, linestyle='--')\n",
    "plt.xlim([0.0, 1.0])\n",
    "plt.ylim([0.0, 1.05])\n",
    "plt.xlabel('False Positive Rate')\n",
    "plt.ylabel('True Positive Rate')\n",
    "plt.title('Receiver Operating Characteristic (ROC)')\n",
    "plt.legend(loc=\"lower right\")\n",
    "plt.show()"
   ]
  },
  {
   "cell_type": "code",
   "execution_count": 67,
   "id": "0e5f88eb",
   "metadata": {
    "id": "0e5f88eb",
    "outputId": "cf65e31d-a293-4a45-f70b-409d6aed7f7f"
   },
   "outputs": [
    {
     "data": {
      "text/plain": [
       "<AxesSubplot:xlabel='age', ylabel='avg_glucose_level'>"
      ]
     },
     "execution_count": 67,
     "metadata": {},
     "output_type": "execute_result"
    },
    {
     "data": {
      "image/png": "[encoded data removed]",
      "text/plain": [
       "<Figure size 432x288 with 1 Axes>"
      ]
     },
     "metadata": {
      "needs_background": "light"
     },
     "output_type": "display_data"
    }
   ],
   "source": [
    "stroke_df_sam = stroke_df.sample(500)\n",
    "\n",
    "# Create a regplot\n",
    "sns.regplot(x='age', y='avg_glucose_level', data=stroke_df_sam)"
   ]
  },
  {
   "cell_type": "code",
   "execution_count": 68,
   "id": "59ae96cb",
   "metadata": {
    "id": "59ae96cb"
   },
   "outputs": [
    {
     "name": "stdout",
     "output_type": "stream",
     "text": [
      "Confusion Matrix (Accuracy 0.9577)\n",
      "\n",
      "       Prediction\n",
      "Actual    0    1\n",
      "     0 1881    0\n",
      "     1   83    0\n"
     ]
    }
   ],
   "source": [
    "classificationSummary(LR_y_valid, y_pred_logit)"
   ]
  },
  {
   "cell_type": "code",
   "execution_count": 69,
   "id": "00da0494",
   "metadata": {},
   "outputs": [
    {
     "data": {
      "image/png": "[encoded data removed]",
      "text/plain": [
       "<Figure size 432x288 with 1 Axes>"
      ]
     },
     "metadata": {
      "needs_background": "light"
     },
     "output_type": "display_data"
    }
   ],
   "source": [
    "# Create a bar graph comparing the accuracy scores\n",
    "models = ['Logistic Regression', 'KNN', 'Naive Bayes', 'CART']\n",
    "accuracies = [accuracy, accKNN, accNB, CART_accuracy]\n",
    "\n",
    "plt.bar(models, accuracies)\n",
    "plt.ylim(0.94, 0.96)\n",
    "plt.xlabel('Model')\n",
    "plt.ylabel('Accuracy')\n",
    "plt.title('Comparison of Model Accuracies')\n",
    "plt.show()"
   ]
  }
 ],
 "metadata": {
  "colab": {
   "provenance": []
  },
  "kernelspec": {
   "display_name": "Python 3 (ipykernel)",
   "language": "python",
   "name": "python3"
  },
  "language_info": {
   "codemirror_mode": {
    "name": "ipython",
    "version": 3
   },
   "file_extension": ".py",
   "mimetype": "text/x-python",
   "name": "python",
   "nbconvert_exporter": "python",
   "pygments_lexer": "ipython3",
   "version": "3.9.12"
  }
 },
 "nbformat": 4,
 "nbformat_minor": 5
}
